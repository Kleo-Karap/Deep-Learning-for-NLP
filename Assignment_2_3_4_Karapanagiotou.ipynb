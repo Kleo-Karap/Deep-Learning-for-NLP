{
  "cells": [
    {
      "cell_type": "markdown",
      "metadata": {
        "id": "QZuMKqDSGeDO"
      },
      "source": [
        "**M909 : Deep Learning for NLP |\n",
        "Winter Semester 2023/24 |\n",
        "Student ID: lt12200010 |\n",
        "Student Name: Kleopatra Karapanagiotou**\n",
        "\n",
        "**Assignments 2, 3, 4 : Code and Report**\n"
      ]
    },
    {
      "cell_type": "markdown",
      "metadata": {
        "id": "Vzh30uW7Es_w"
      },
      "source": [
        "**SENTIMENT ANALYSIS OF THE IMDB DATASET**"
      ]
    },
    {
      "cell_type": "markdown",
      "metadata": {
        "id": "rWzpP73UE1H_"
      },
      "source": [
        "The IMDB Dataset consists of 50K movie reviews. The aim of these assignments is to apply different neural network architectures for classifying whether a review is positive or negative.\n",
        "\n",
        "Neural network architectures used in this project:\n",
        "*   Assignment_2:Recurrent Neural Network with LSTM cells\n",
        "*   Assignment_3:Convolutional Neural Network\n",
        "*   Assignment_4:Finetune a pre-trained model from Hugging Face (DistilBert)\n",
        "\n",
        "The RNN and CNN models were trained 2 times each:\n",
        "*   one with the embedding layer frozen during training\n",
        "*   one using the 100-dimensional pre-trained Glove embeddings\n",
        "\n",
        "For hyperparameter tuning the Optuna optimzation framework is usedand the following hyperparameters were optimized:\n",
        "\n",
        "\n",
        "This project consists of 8 parts:\n",
        "* Load the data\n",
        "* Preprocess the data and split\n",
        "* Build the vocabulary\n",
        "* Hyperparameter tuning for the LSTM and CNN model architectures\n",
        "* Training and evaluation of models without Glove pre-trained embeddings (frozen embeddings)\n",
        "* Training and evaluation of models with Glove pre-trained embeddings\n",
        "* Use a model from Hugging Face and fine tune it on the IMDB dataset\n",
        "* Presenting the results from the models and comment on the findings"
      ]
    },
    {
      "cell_type": "markdown",
      "metadata": {
        "id": "Ke_U9Ko0w95R"
      },
      "source": [
        "**DOWNLOAD AND IMPORT NECESSARY PACKAGES AND LIBRARIES**"
      ]
    },
    {
      "cell_type": "code",
      "execution_count": null,
      "metadata": {
        "id": "nDwCNkY9Xl4V"
      },
      "outputs": [],
      "source": [
        "!pip install transformers torchtext==0.6.0\n",
        "!pip install accelerate -U\n",
        "!pip install optuna"
      ]
    },
    {
      "cell_type": "code",
      "execution_count": null,
      "metadata": {
        "id": "DFMTsOyIzZZm"
      },
      "outputs": [],
      "source": [
        "import torch\n",
        "from torchtext import data, datasets\n",
        "import random\n",
        "import re\n",
        "import spacy\n",
        "import time\n",
        "import matplotlib.pyplot as plt\n",
        "import pandas as pd\n",
        "import math\n",
        "import numpy as np\n",
        "import nltk\n",
        "import numpy as np\n",
        "from tqdm import tqdm\n",
        "from nltk.corpus import stopwords\n",
        "from nltk.tokenize import word_tokenize\n",
        "from nltk.stem import WordNetLemmatizer\n",
        "import collections\n",
        "from sklearn.utils import resample\n",
        "from sklearn import metrics\n",
        "from sklearn.metrics import precision_recall_fscore_support as score\n",
        "from sklearn.metrics import accuracy_score, f1_score, precision_score, recall_score\n",
        "from sklearn.metrics import classification_report\n",
        "from torch.utils.data import TensorDataset\n",
        "from torchtext.data import Field, TabularDataset, BucketIterator, Iterator\n",
        "import torch.nn as nn\n",
        "import torchtext\n",
        "import torch.nn.functional as F\n",
        "import torch.optim as optim\n",
        "import os\n",
        "from sklearn.model_selection import train_test_split\n",
        "from transformers import EarlyStoppingCallback\n",
        "from transformers import DistilBertTokenizerFast\n",
        "from transformers import DistilBertForSequenceClassification, Trainer, TrainingArguments\n",
        "import optuna"
      ]
    },
    {
      "cell_type": "code",
      "execution_count": null,
      "metadata": {
        "id": "WGygZ6DaeYPn"
      },
      "outputs": [],
      "source": [
        "# Download necessary packages and datasets\n",
        "nltk.download('stopwords')\n",
        "nltk.download('punkt')\n",
        "nltk.download('wordnet')\n",
        "stop_words_set = set(stopwords.words('english'))\n",
        "\n",
        "# Download IMDB dataset\n",
        "URL = 'http://ai.stanford.edu/~amaas/data/sentiment/aclImdb_v1.tar.gz'\n",
        "!wget -P 'Data/' $URL\n",
        "!tar xvzf 'Data/aclImdb_v1.tar.gz' -C 'Data/'\n",
        "\n",
        "# Download and unzip Glove pre-trained vectors\n",
        "FILE = 'GLOVE'\n",
        "URL = 'http://nlp.stanford.edu/data/glove.6B.zip'\n",
        "!wget -P $FILE $URL\n",
        "!unzip $FILE/glove*.zip -d $FILE"
      ]
    },
    {
      "cell_type": "markdown",
      "metadata": {
        "id": "suQnUqZ_xhux"
      },
      "source": [
        "**SET UP GPU FOR TRAINING**"
      ]
    },
    {
      "cell_type": "code",
      "execution_count": null,
      "metadata": {
        "id": "vnsM_kzK1qgw"
      },
      "outputs": [],
      "source": [
        "# Set up GPU for Training\n",
        "if torch.cuda.is_available():\n",
        "    device = torch.device(\"cuda\")\n",
        "    print(f'There are {torch.cuda.device_count()} GPU(s) available.')\n",
        "    print('Device name:', torch.cuda.get_device_name(0))\n",
        "\n",
        "else:\n",
        "    print('No GPU available, using the CPU instead.')\n",
        "    device = torch.device('cpu')"
      ]
    },
    {
      "cell_type": "markdown",
      "metadata": {
        "id": "j-WdhMDKxlzB"
      },
      "source": [
        "**FUNCTIONS USED**"
      ]
    },
    {
      "cell_type": "code",
      "execution_count": null,
      "metadata": {
        "id": "yU9CRji5J47M"
      },
      "outputs": [],
      "source": [
        "# A function that calculates the time needed for training and evaluation in each epoch\n",
        "def epoch_time(start_time, end_time):\n",
        "    elapsed_time = end_time - start_time\n",
        "    elapsed_mins = int(elapsed_time / 60)\n",
        "    elapsed_secs = int(elapsed_time - (elapsed_mins * 60))\n",
        "    return elapsed_mins, elapsed_secs"
      ]
    },
    {
      "cell_type": "code",
      "execution_count": null,
      "metadata": {
        "id": "qwM-0dtr6XhJ"
      },
      "outputs": [],
      "source": [
        "# A function that reads a set of files in a given directory and saves the lines to a list\n",
        "def load_data(path, file_list, dataset, encoding='utf8'):\n",
        "    for file in file_list:\n",
        "        with open(os.path.join(path, file), 'r', encoding=encoding) as text:\n",
        "            dataset.append(text.read())"
      ]
    },
    {
      "cell_type": "code",
      "execution_count": null,
      "metadata": {
        "id": "WbRj03hDBzd9"
      },
      "outputs": [],
      "source": [
        "# A function that opens, reads a file in csv with utf-8 encoding, gets the values, checks and fills empty values and checks for duplicates\n",
        "def read_explore_dataframe(dataframe):\n",
        "\n",
        "  # Count the number of examples in each class\n",
        "  print(dataframe.label.value_counts())\n",
        "  print()\n",
        "\n",
        "  # Get the keys and their corresponding number of values\n",
        "  keys = dataframe.keys()\n",
        "  for key in keys:\n",
        "    df_len = len(dataframe[key].unique()) # the length of the unique values of each column\n",
        "    print('{0:25}{1:10}'.format(key,df_len))\n",
        "\n",
        "  dataframe.dropna(inplace=True) # remove missing values and keep the dataFrame with valid entries in the same variable\n",
        "  dataframe.reset_index(inplace=True,drop=True)\n",
        "\n",
        "  dataframe.duplicated() # check for duplicates\n",
        "  #print('Number of duplicates in the dataframe:', dataframe.duplicated().sum())\n",
        "  print('Dataframe checked for NaN values and duplicates!')\n",
        "\n",
        "  return dataframe"
      ]
    },
    {
      "cell_type": "code",
      "execution_count": null,
      "metadata": {
        "id": "aLuSjttVDV_t"
      },
      "outputs": [],
      "source": [
        "# A function that takes as parameter a text and applies preprocessing steps to clean it\n",
        "def text_preprocessing(text):\n",
        "\n",
        "  # Remove tags\n",
        "  TAG_RE = re.compile(r'<[^>]+>')\n",
        "  no_tags = TAG_RE.sub('',text)\n",
        "  # Remove unusual characters\n",
        "  text = re.sub('<[^>]*>', '', no_tags)\n",
        "  # Remove urls\n",
        "  text = re.sub(r'http\\S+','', text)\n",
        "  # Remove emoticons\n",
        "  emoticons = re.findall('(?::|;|=)(?:-)?(?:\\)|\\(|D|P)', text)\n",
        "  # Remove punctuation\n",
        "  no_punct = [word for word in emoticons if word.isalpha()]\n",
        "  # Convert all words to lowercase\n",
        "  text = re.sub('[\\W]+', ' ', text.lower()) + \" \".join(no_punct).replace('-', '')\n",
        "  # Remove numbers\n",
        "  no_numbers_txt = re.sub(r'\\d+', '', text)\n",
        "  # Tokenize\n",
        "  tokens = nltk.word_tokenize(no_numbers_txt)\n",
        "  # Filter out stopwords\n",
        "  no_stopwords = [word for word in tokens if word not in stop_words_set]\n",
        "  # Lemmatize\n",
        "  lemmatizer = WordNetLemmatizer()\n",
        "  lemmas = \" \".join([lemmatizer.lemmatize(token) for token in no_stopwords])\n",
        "\n",
        "  return lemmas"
      ]
    },
    {
      "cell_type": "code",
      "execution_count": null,
      "metadata": {
        "id": "OOra4QZADrCV"
      },
      "outputs": [],
      "source": [
        "# A function that gets as input the dataframe and gets the necessary values from the columns after resampling and pre-processing\n",
        "def get_columns(dataframe, feature, label):\n",
        "\n",
        "  # Get only the columns we are interested in\n",
        "  dataset = dataframe[[feature,label]]\n",
        "\n",
        "  # Apply the pre-processing function to the dataframe containing the text (feature column)\n",
        "  dataset[feature] = dataset[feature].apply(text_preprocessing)\n",
        "  print('\\nText done pre-processing!')\n",
        "\n",
        "  # Divide the X and y values\n",
        "  X = dataset[feature]\n",
        "  y = dataset[label]\n",
        "\n",
        "  # Split train dataset to train and validation set\n",
        "  X_train, X_val, Y_train, Y_val = train_test_split(X, y, test_size = 0.20, random_state = 42)\n",
        "  print('The dataset is split into training and validation sets!')\n",
        "\n",
        "  print('Shape of x_train: ', X_train.shape)\n",
        "  print('Shape of y_train: ', Y_train.shape)\n",
        "  print('Shape of x_val:  ', X_val.shape)\n",
        "  print('Shape of y_val:  ', Y_val.shape)\n",
        "\n",
        "  # Concatenate the X,Y data of training and validation data\n",
        "  train = pd.concat([X_train, Y_train], axis=1)\n",
        "  valid = pd.concat([X_val, Y_val], axis=1)\n",
        "\n",
        "  # Save the training and validation data into csv format\n",
        "  train.to_csv(\"/content/train.csv\", index=False)\n",
        "  valid.to_csv(\"/content/valid.csv\", index=False)\n",
        "\n",
        "  return train, valid"
      ]
    },
    {
      "cell_type": "code",
      "execution_count": null,
      "metadata": {
        "id": "kJbSz45x8cJL"
      },
      "outputs": [],
      "source": [
        "# A function that creates iterators for the given datasets\n",
        "# In each batch, the sentences are transposed to be descending vertically\n",
        "# Each index represents a token and each column represents a sentence\n",
        "# The batch size specifies the number of columns\n",
        "# The lambda function finds sentences of the same length,\n",
        "#which is beneficial for efficient processing, especially in the context of LSTM models where sequences need to be of the same length.The sorting helps in padding sequences to similar lengths\n",
        "\n",
        "def create_iterators(train_dataset, validation_dataset, test_dataset, batch_size):\n",
        "\n",
        "  train_iterator, val_iterator, test_iterator = data.BucketIterator.splits(\n",
        "  # The Datasets to load Examples from\n",
        "  (train_dataset, validation_dataset, test_dataset),\n",
        "  # The batch size\n",
        "  batch_size = batch_size,\n",
        "  # Function to use for sorting examples\n",
        "  sort_key = lambda x: len(x.Review),\n",
        "  # Repeat the iterator for multiple epochs\n",
        "  repeat = False,\n",
        "  # Shuffle data on each epoch run\n",
        "  shuffle = True,\n",
        "  # Use 'sort_key' to sort examples in each batch: True ensures that sentences within a batch are of similar length, optimizing for efficient processing\n",
        "  sort_within_batch = True,\n",
        "  device = device)\n",
        "\n",
        "  return train_iterator, val_iterator, test_iterator"
      ]
    },
    {
      "cell_type": "code",
      "execution_count": null,
      "metadata": {
        "id": "KmsVVRSENegX"
      },
      "outputs": [],
      "source": [
        "# A function that calculates the trainable parameters of the model\n",
        "def count_parameters(model):\n",
        "    return sum(p.numel() for p in model.parameters() if p.requires_grad)\n",
        "\n",
        "# A function that sets seed for reproducibility\n",
        "def set_seed(seed_value):\n",
        "    random.seed(seed_value)\n",
        "    np.random.seed(seed_value)\n",
        "    torch.manual_seed(seed_value)\n",
        "    torch.cuda.manual_seed_all(seed_value)"
      ]
    },
    {
      "cell_type": "code",
      "execution_count": null,
      "metadata": {
        "id": "jGr8WG1N5Ik5"
      },
      "outputs": [],
      "source": [
        "# ====== METRICS CALCULATION ======\n",
        "\n",
        "# A function that calculates accuracy per batch and returns rounded predictions\n",
        "def binary_accuracy(preds, y):\n",
        "\n",
        "    # Round predictions to the closest integer\n",
        "    rounded_preds = torch.round(torch.sigmoid(preds))\n",
        "    correct = (rounded_preds == y).float() # Convert into float for division\n",
        "    acc = correct.sum() / len(correct)\n",
        "    return acc\n",
        "\n",
        "\n",
        "# A function that calculates all the metrics using the testing set\n",
        "def calculate_metrics(y_true, preds):\n",
        "  print('\\nCalculating metrics...')\n",
        "  # Calculate the accuracy of the model\n",
        "  acc = accuracy_score(y_true, preds)\n",
        "  # Calculate general precision, recall, F1 score of the model and of each class\n",
        "  precision, recall, fscore, support = score(y_true, preds)\n",
        "  print('Accuracy: {}'.format(acc))\n",
        "  print('Precision: {}'.format(precision))\n",
        "  print('Recall: {}'.format(recall))\n",
        "  print('F1 score: {}'.format(fscore))\n",
        "  print('Support: {}'.format(support))\n",
        "\n",
        "  # Print classification report\n",
        "  print(classification_report(y_true, preds))"
      ]
    },
    {
      "cell_type": "code",
      "execution_count": null,
      "metadata": {
        "id": "lxNRFdJ2Ns7_"
      },
      "outputs": [],
      "source": [
        "# ====== TRAINING (TRAINING SET) ======\n",
        "def train(model, iterator, optimizer, criterion, clip):\n",
        "\n",
        "  training_loss = 0\n",
        "  training_acc = 0\n",
        "\n",
        "  # Set model to training mode\n",
        "  model.train()\n",
        "\n",
        "  # For each batch in the training iterator\n",
        "  for batch in tqdm(iterator):\n",
        "\n",
        "    # Zero the gradients\n",
        "    optimizer.zero_grad()\n",
        "\n",
        "    # Compute the predictions\n",
        "    predictions = model(batch.Review).squeeze(1)\n",
        "\n",
        "    # Compute the loss\n",
        "    loss = criterion(predictions, batch.Label)\n",
        "\n",
        "    # Compute the accuracy\n",
        "    acc = binary_accuracy(predictions, batch.Label.float())\n",
        "\n",
        "    # Use loss to compute gradients\n",
        "    loss.backward()\n",
        "\n",
        "    # Clip the gradient value\n",
        "    nn.utils.clip_grad_norm_(model.parameters(), clip)\n",
        "\n",
        "    # Use optimizer to take gradient step\n",
        "    optimizer.step()\n",
        "\n",
        "    training_loss += loss.item()\n",
        "    training_acc += acc.item()\n",
        "\n",
        "  loss_of_epoch = training_loss / len(iterator)\n",
        "  accuracy_of_epoch = training_acc / len(iterator)\n",
        "\n",
        "  # Return the loss and accuracy, averaged across each epoch\n",
        "  # len of iterator = number of batches in the iterator\n",
        "  return loss_of_epoch, accuracy_of_epoch"
      ]
    },
    {
      "cell_type": "code",
      "execution_count": null,
      "metadata": {
        "id": "wOI6_OSxNzI4"
      },
      "outputs": [],
      "source": [
        "# ====== EVALUATION (VALIDATION SET) ======\n",
        "def evaluate(model, iterator, criterion):\n",
        "\n",
        "  eval_loss = 0\n",
        "  eval_acc = 0\n",
        "\n",
        "  # Set model to evaluation mode\n",
        "  model.eval()\n",
        "\n",
        "  # Don't calculate the gradients\n",
        "  with torch.no_grad():\n",
        "\n",
        "    for batch in tqdm(iterator):\n",
        "\n",
        "      # Compute the predictions\n",
        "      predictions = model(batch.Review).squeeze(1)\n",
        "\n",
        "      # Compute the loss\n",
        "      loss = criterion(predictions, batch.Label)\n",
        "\n",
        "      # Compute the accuracy\n",
        "      acc = binary_accuracy(predictions, batch.Label.float())\n",
        "\n",
        "      eval_loss += loss.item()\n",
        "      eval_acc += acc.item()\n",
        "\n",
        "  loss_of_epoch = eval_loss / len(iterator)\n",
        "  accuracy_of_epoch = eval_acc / len(iterator)\n",
        "\n",
        "  # Return the loss and accuracy, averaged across each epoch\n",
        "  # len of iterator = number of batches in the iterator\n",
        "  return loss_of_epoch, accuracy_of_epoch\n",
        "\n",
        "\n",
        "# ====== EVALUATION (TESTING SET) ======\n",
        "def testing(model, iterator):\n",
        "\n",
        "  predictions_all = []\n",
        "  labels_all = []\n",
        "\n",
        "  model.eval()\n",
        "\n",
        "  with torch.no_grad():\n",
        "\n",
        "    for batch in iterator:\n",
        "      predictions = model(batch.Review).squeeze(1)\n",
        "      predictions_all +=  torch.round(torch.sigmoid(predictions)).flatten().cpu().numpy().tolist()\n",
        "      labels_all += batch.Label.flatten().cpu().numpy().tolist()\n",
        "\n",
        "  return predictions_all, labels_all"
      ]
    },
    {
      "cell_type": "markdown",
      "metadata": {
        "id": "uBMUH3WBoUr2"
      },
      "source": [
        "**MODELS**"
      ]
    },
    {
      "cell_type": "code",
      "execution_count": null,
      "metadata": {
        "id": "-C_Tq8Id1Sug"
      },
      "outputs": [],
      "source": [
        "# ====== Recurrent Neural Network Model with LSTM ======\n",
        "class LSTM_Model(nn.Module):\n",
        "\n",
        "  def __init__(self, vocab_size, embedding_dim, hidden_dim, output_dim, num_layers, d_rate, pad_idx):\n",
        "\n",
        "    super(LSTM_Model, self).__init__()\n",
        "    self.embedding = nn.Embedding(vocab_size, embedding_dim, padding_idx = pad_idx)\n",
        "    self.lstm = nn.LSTM(embedding_dim, hidden_dim, num_layers=num_layers, bidirectional=True, dropout=d_rate)\n",
        "    self.dense = nn.Linear(2 * hidden_dim, output_dim)\n",
        "    self.dropout = nn.Dropout(d_rate)\n",
        "\n",
        "  def forward(self, x):\n",
        "    # Get the word embeddings of the batch\n",
        "    # x: (sentence_length, batch_size)\n",
        "    embedded = self.dropout(self.embedding(x))\n",
        "    # embedded: (sentence_length, batch_size, embedding_dim)\n",
        "\n",
        "    # Propagate the input through LSTM layer/s\n",
        "    _, (hidden, _) = self.lstm(embedded)\n",
        "\n",
        "    # Extract output of the last time step\n",
        "    # Concat the final output of forward direction and backward direction\n",
        "    hidden = self.dropout(torch.cat((hidden[-2,:,:], hidden[-1,:,:]), dim=1))\n",
        "    # hidden: (batch_size, hidden_dim * 2)\n",
        "\n",
        "    output = self.dense(hidden)\n",
        "\n",
        "    return output"
      ]
    },
    {
      "cell_type": "code",
      "execution_count": null,
      "metadata": {
        "id": "8n6Se6QT0xUF"
      },
      "outputs": [],
      "source": [
        "# ====== Convolutional Neural Network Model ======\n",
        "class CNN(nn.Module):\n",
        "\n",
        "  def __init__(self, vocab_size, embedding_dim, n_filters, filter_sizes, output_dim, dropout, pad_idx):\n",
        "    super(CNN,self).__init__()\n",
        "    #Embedding layer\n",
        "    self.embedding = nn.Embedding(vocab_size, embedding_dim, padding_idx = pad_idx)\n",
        "    #Conv Network\n",
        "    # in_channels: the number of \"channels\" in the image going into the convolutional layer\n",
        "    # out_channels: the number of filters\n",
        "    # the kernel_size: the size of the filters. Each of the kernel_sizes is going to be [n x emb_dim] where n is the size of the n-grams\n",
        "    self.convs = nn.ModuleList([nn.Conv2d(in_channels = 1, out_channels = n_filters, kernel_size = (fs, embedding_dim)) for fs in filter_sizes])\n",
        "    #Fully  connected +Dropout\n",
        "    self.fc = nn.Linear(len(filter_sizes) * n_filters, output_dim)\n",
        "    self.dropout = nn.Dropout(dropout)\n",
        "\n",
        "  def forward(self, text):\n",
        "    #input text is permuted to have the batch size as the first dimension\n",
        "    text = text.permute(1, 0)\n",
        "    #text is embedded, and dropout is applied\n",
        "    embedded = self.dropout(self.embedding(text))\n",
        "    embedded = embedded.unsqueeze(1)\n",
        "    #Convolution and ReLU activation are applied to each filter size.\n",
        "    conved = [F.relu(conv(embedded)).squeeze(3) for conv in self.convs]\n",
        "    #1D max pooling is performed over the width of each feature map\n",
        "    pooled = [F.max_pool1d(conv, conv.shape[2]).squeeze(2) for conv in conved]\n",
        "    #Pooled feature maps are concatenated and passed through dropout\n",
        "    cat = self.dropout(torch.cat(pooled, dim = 1))\n",
        "    #result is passed through the fully connected layer to get the final output\n",
        "    return self.fc(cat)"
      ]
    },
    {
      "cell_type": "markdown",
      "metadata": {
        "id": "iSl9hO3yX03w"
      },
      "source": [
        "**RUN THE SCRIPT - APPLY FUNCTIONS**"
      ]
    },
    {
      "cell_type": "markdown",
      "metadata": {
        "id": "MWoVC-87YDp4"
      },
      "source": [
        "**PART 1: LOAD THE DATA**"
      ]
    },
    {
      "cell_type": "code",
      "execution_count": null,
      "metadata": {
        "id": "DF4vJNM96YpB"
      },
      "outputs": [],
      "source": [
        "set_seed(42)\n",
        "\n",
        "# Path to dataset location\n",
        "path = '/content/Data/aclImdb'\n",
        "\n",
        "# Create lists that will contain read lines\n",
        "train_pos, train_neg, test_pos, test_neg = [], [], [], []\n",
        "\n",
        "# Create a dictionary of paths and lists that store lines (key: value = path: list)\n",
        "sets_dict = {'train/pos/': train_pos, 'train/neg/': train_neg,\n",
        "             'test/pos/': test_pos, 'test/neg/': test_neg}\n",
        "\n",
        "# Load the data\n",
        "for dataset in sets_dict:\n",
        "        file_list = [f for f in os.listdir(os.path.join(path, dataset)) if f.endswith('.txt')]\n",
        "        load_data(os.path.join(path, dataset), file_list, sets_dict[dataset])\n",
        "\n",
        "# Concatenate positive and negative into datasets, one for the training and one for the testing\n",
        "train_dataset = pd.concat([pd.DataFrame({'review': train_pos, 'label':1}),\n",
        "                          pd.DataFrame({'review': train_neg, 'label':0})],\n",
        "                          axis=0, ignore_index=True)\n",
        "\n",
        "test_dataset = pd.concat([pd.DataFrame({'review': test_pos, 'label':1}),\n",
        "                          pd.DataFrame({'review': test_neg, 'label':0})],\n",
        "                          axis=0, ignore_index=True)"
      ]
    },
    {
      "cell_type": "code",
      "execution_count": null,
      "metadata": {
        "colab": {
          "base_uri": "https://localhost:8080/",
          "height": 206
        },
        "id": "olrm854A8VrD",
        "outputId": "7bcb3a3a-8b6a-4bd0-cf7e-1521f7e5f70b"
      },
      "outputs": [
        {
          "data": {
            "text/html": [
              "\n",
              "  <div id=\"df-0a93f74b-1eda-4799-9997-aa33d22bee31\" class=\"colab-df-container\">\n",
              "    <div>\n",
              "<style scoped>\n",
              "    .dataframe tbody tr th:only-of-type {\n",
              "        vertical-align: middle;\n",
              "    }\n",
              "\n",
              "    .dataframe tbody tr th {\n",
              "        vertical-align: top;\n",
              "    }\n",
              "\n",
              "    .dataframe thead th {\n",
              "        text-align: right;\n",
              "    }\n",
              "</style>\n",
              "<table border=\"1\" class=\"dataframe\">\n",
              "  <thead>\n",
              "    <tr style=\"text-align: right;\">\n",
              "      <th></th>\n",
              "      <th>review</th>\n",
              "      <th>label</th>\n",
              "    </tr>\n",
              "  </thead>\n",
              "  <tbody>\n",
              "    <tr>\n",
              "      <th>0</th>\n",
              "      <td>PRC which was the lowest of the low actually s...</td>\n",
              "      <td>1</td>\n",
              "    </tr>\n",
              "    <tr>\n",
              "      <th>1</th>\n",
              "      <td>Considering it was made on a low budget, THE D...</td>\n",
              "      <td>1</td>\n",
              "    </tr>\n",
              "    <tr>\n",
              "      <th>2</th>\n",
              "      <td>this movie is so complex that it can be given ...</td>\n",
              "      <td>1</td>\n",
              "    </tr>\n",
              "    <tr>\n",
              "      <th>3</th>\n",
              "      <td>Rented and watched this short (&lt; 90 minutes) w...</td>\n",
              "      <td>1</td>\n",
              "    </tr>\n",
              "    <tr>\n",
              "      <th>4</th>\n",
              "      <td>Dressed to Kill starts off with Kate Miller (A...</td>\n",
              "      <td>1</td>\n",
              "    </tr>\n",
              "  </tbody>\n",
              "</table>\n",
              "</div>\n",
              "    <div class=\"colab-df-buttons\">\n",
              "\n",
              "  <div class=\"colab-df-container\">\n",
              "    <button class=\"colab-df-convert\" onclick=\"convertToInteractive('df-0a93f74b-1eda-4799-9997-aa33d22bee31')\"\n",
              "            title=\"Convert this dataframe to an interactive table.\"\n",
              "            style=\"display:none;\">\n",
              "\n",
              "  <svg xmlns=\"http://www.w3.org/2000/svg\" height=\"24px\" viewBox=\"0 -960 960 960\">\n",
              "    <path d=\"M120-120v-720h720v720H120Zm60-500h600v-160H180v160Zm220 220h160v-160H400v160Zm0 220h160v-160H400v160ZM180-400h160v-160H180v160Zm440 0h160v-160H620v160ZM180-180h160v-160H180v160Zm440 0h160v-160H620v160Z\"/>\n",
              "  </svg>\n",
              "    </button>\n",
              "\n",
              "  <style>\n",
              "    .colab-df-container {\n",
              "      display:flex;\n",
              "      gap: 12px;\n",
              "    }\n",
              "\n",
              "    .colab-df-convert {\n",
              "      background-color: #E8F0FE;\n",
              "      border: none;\n",
              "      border-radius: 50%;\n",
              "      cursor: pointer;\n",
              "      display: none;\n",
              "      fill: #1967D2;\n",
              "      height: 32px;\n",
              "      padding: 0 0 0 0;\n",
              "      width: 32px;\n",
              "    }\n",
              "\n",
              "    .colab-df-convert:hover {\n",
              "      background-color: #E2EBFA;\n",
              "      box-shadow: 0px 1px 2px rgba(60, 64, 67, 0.3), 0px 1px 3px 1px rgba(60, 64, 67, 0.15);\n",
              "      fill: #174EA6;\n",
              "    }\n",
              "\n",
              "    .colab-df-buttons div {\n",
              "      margin-bottom: 4px;\n",
              "    }\n",
              "\n",
              "    [theme=dark] .colab-df-convert {\n",
              "      background-color: #3B4455;\n",
              "      fill: #D2E3FC;\n",
              "    }\n",
              "\n",
              "    [theme=dark] .colab-df-convert:hover {\n",
              "      background-color: #434B5C;\n",
              "      box-shadow: 0px 1px 3px 1px rgba(0, 0, 0, 0.15);\n",
              "      filter: drop-shadow(0px 1px 2px rgba(0, 0, 0, 0.3));\n",
              "      fill: #FFFFFF;\n",
              "    }\n",
              "  </style>\n",
              "\n",
              "    <script>\n",
              "      const buttonEl =\n",
              "        document.querySelector('#df-0a93f74b-1eda-4799-9997-aa33d22bee31 button.colab-df-convert');\n",
              "      buttonEl.style.display =\n",
              "        google.colab.kernel.accessAllowed ? 'block' : 'none';\n",
              "\n",
              "      async function convertToInteractive(key) {\n",
              "        const element = document.querySelector('#df-0a93f74b-1eda-4799-9997-aa33d22bee31');\n",
              "        const dataTable =\n",
              "          await google.colab.kernel.invokeFunction('convertToInteractive',\n",
              "                                                    [key], {});\n",
              "        if (!dataTable) return;\n",
              "\n",
              "        const docLinkHtml = 'Like what you see? Visit the ' +\n",
              "          '<a target=\"_blank\" href=https://colab.research.google.com/notebooks/data_table.ipynb>data table notebook</a>'\n",
              "          + ' to learn more about interactive tables.';\n",
              "        element.innerHTML = '';\n",
              "        dataTable['output_type'] = 'display_data';\n",
              "        await google.colab.output.renderOutput(dataTable, element);\n",
              "        const docLink = document.createElement('div');\n",
              "        docLink.innerHTML = docLinkHtml;\n",
              "        element.appendChild(docLink);\n",
              "      }\n",
              "    </script>\n",
              "  </div>\n",
              "\n",
              "\n",
              "<div id=\"df-d8be46bc-2c3a-4cdd-ba81-7810d1fb5dc5\">\n",
              "  <button class=\"colab-df-quickchart\" onclick=\"quickchart('df-d8be46bc-2c3a-4cdd-ba81-7810d1fb5dc5')\"\n",
              "            title=\"Suggest charts\"\n",
              "            style=\"display:none;\">\n",
              "\n",
              "<svg xmlns=\"http://www.w3.org/2000/svg\" height=\"24px\"viewBox=\"0 0 24 24\"\n",
              "     width=\"24px\">\n",
              "    <g>\n",
              "        <path d=\"M19 3H5c-1.1 0-2 .9-2 2v14c0 1.1.9 2 2 2h14c1.1 0 2-.9 2-2V5c0-1.1-.9-2-2-2zM9 17H7v-7h2v7zm4 0h-2V7h2v10zm4 0h-2v-4h2v4z\"/>\n",
              "    </g>\n",
              "</svg>\n",
              "  </button>\n",
              "\n",
              "<style>\n",
              "  .colab-df-quickchart {\n",
              "      --bg-color: #E8F0FE;\n",
              "      --fill-color: #1967D2;\n",
              "      --hover-bg-color: #E2EBFA;\n",
              "      --hover-fill-color: #174EA6;\n",
              "      --disabled-fill-color: #AAA;\n",
              "      --disabled-bg-color: #DDD;\n",
              "  }\n",
              "\n",
              "  [theme=dark] .colab-df-quickchart {\n",
              "      --bg-color: #3B4455;\n",
              "      --fill-color: #D2E3FC;\n",
              "      --hover-bg-color: #434B5C;\n",
              "      --hover-fill-color: #FFFFFF;\n",
              "      --disabled-bg-color: #3B4455;\n",
              "      --disabled-fill-color: #666;\n",
              "  }\n",
              "\n",
              "  .colab-df-quickchart {\n",
              "    background-color: var(--bg-color);\n",
              "    border: none;\n",
              "    border-radius: 50%;\n",
              "    cursor: pointer;\n",
              "    display: none;\n",
              "    fill: var(--fill-color);\n",
              "    height: 32px;\n",
              "    padding: 0;\n",
              "    width: 32px;\n",
              "  }\n",
              "\n",
              "  .colab-df-quickchart:hover {\n",
              "    background-color: var(--hover-bg-color);\n",
              "    box-shadow: 0 1px 2px rgba(60, 64, 67, 0.3), 0 1px 3px 1px rgba(60, 64, 67, 0.15);\n",
              "    fill: var(--button-hover-fill-color);\n",
              "  }\n",
              "\n",
              "  .colab-df-quickchart-complete:disabled,\n",
              "  .colab-df-quickchart-complete:disabled:hover {\n",
              "    background-color: var(--disabled-bg-color);\n",
              "    fill: var(--disabled-fill-color);\n",
              "    box-shadow: none;\n",
              "  }\n",
              "\n",
              "  .colab-df-spinner {\n",
              "    border: 2px solid var(--fill-color);\n",
              "    border-color: transparent;\n",
              "    border-bottom-color: var(--fill-color);\n",
              "    animation:\n",
              "      spin 1s steps(1) infinite;\n",
              "  }\n",
              "\n",
              "  @keyframes spin {\n",
              "    0% {\n",
              "      border-color: transparent;\n",
              "      border-bottom-color: var(--fill-color);\n",
              "      border-left-color: var(--fill-color);\n",
              "    }\n",
              "    20% {\n",
              "      border-color: transparent;\n",
              "      border-left-color: var(--fill-color);\n",
              "      border-top-color: var(--fill-color);\n",
              "    }\n",
              "    30% {\n",
              "      border-color: transparent;\n",
              "      border-left-color: var(--fill-color);\n",
              "      border-top-color: var(--fill-color);\n",
              "      border-right-color: var(--fill-color);\n",
              "    }\n",
              "    40% {\n",
              "      border-color: transparent;\n",
              "      border-right-color: var(--fill-color);\n",
              "      border-top-color: var(--fill-color);\n",
              "    }\n",
              "    60% {\n",
              "      border-color: transparent;\n",
              "      border-right-color: var(--fill-color);\n",
              "    }\n",
              "    80% {\n",
              "      border-color: transparent;\n",
              "      border-right-color: var(--fill-color);\n",
              "      border-bottom-color: var(--fill-color);\n",
              "    }\n",
              "    90% {\n",
              "      border-color: transparent;\n",
              "      border-bottom-color: var(--fill-color);\n",
              "    }\n",
              "  }\n",
              "</style>\n",
              "\n",
              "  <script>\n",
              "    async function quickchart(key) {\n",
              "      const quickchartButtonEl =\n",
              "        document.querySelector('#' + key + ' button');\n",
              "      quickchartButtonEl.disabled = true;  // To prevent multiple clicks.\n",
              "      quickchartButtonEl.classList.add('colab-df-spinner');\n",
              "      try {\n",
              "        const charts = await google.colab.kernel.invokeFunction(\n",
              "            'suggestCharts', [key], {});\n",
              "      } catch (error) {\n",
              "        console.error('Error during call to suggestCharts:', error);\n",
              "      }\n",
              "      quickchartButtonEl.classList.remove('colab-df-spinner');\n",
              "      quickchartButtonEl.classList.add('colab-df-quickchart-complete');\n",
              "    }\n",
              "    (() => {\n",
              "      let quickchartButtonEl =\n",
              "        document.querySelector('#df-d8be46bc-2c3a-4cdd-ba81-7810d1fb5dc5 button');\n",
              "      quickchartButtonEl.style.display =\n",
              "        google.colab.kernel.accessAllowed ? 'block' : 'none';\n",
              "    })();\n",
              "  </script>\n",
              "</div>\n",
              "    </div>\n",
              "  </div>\n"
            ],
            "text/plain": [
              "                                              review  label\n",
              "0  PRC which was the lowest of the low actually s...      1\n",
              "1  Considering it was made on a low budget, THE D...      1\n",
              "2  this movie is so complex that it can be given ...      1\n",
              "3  Rented and watched this short (< 90 minutes) w...      1\n",
              "4  Dressed to Kill starts off with Kate Miller (A...      1"
            ]
          },
          "execution_count": 18,
          "metadata": {},
          "output_type": "execute_result"
        }
      ],
      "source": [
        "train_dataset.head()"
      ]
    },
    {
      "cell_type": "markdown",
      "metadata": {
        "id": "JR9S59ZjYVkI"
      },
      "source": [
        "**PART 2: PREPROCESS THE DATA AND SPLIT**"
      ]
    },
    {
      "cell_type": "code",
      "execution_count": null,
      "metadata": {
        "colab": {
          "base_uri": "https://localhost:8080/"
        },
        "id": "8iticRxxCCnt",
        "outputId": "95b79eba-791e-4fe0-8712-3d748ec1bb9d"
      },
      "outputs": [
        {
          "name": "stdout",
          "output_type": "stream",
          "text": [
            "------ Preparing the training and validation dataset... ------\n",
            "1    12500\n",
            "0    12500\n",
            "Name: label, dtype: int64\n",
            "\n",
            "review                        24904\n",
            "label                             2\n",
            "Dataframe checked for NaN values and duplicates!\n",
            "\n",
            "Text done pre-processing!\n",
            "The dataset is split into training and validation sets!\n",
            "Shape of x_train:  (20000,)\n",
            "Shape of y_train:  (20000,)\n",
            "Shape of x_val:   (5000,)\n",
            "Shape of y_val:   (5000,)\n"
          ]
        }
      ],
      "source": [
        "# ====== Prepare the datasets ======\n",
        "print('------ Preparing the training and validation dataset... ------')\n",
        "\n",
        "# Opens, reads, checks for duplicates and removes missing values\n",
        "train_df = read_explore_dataframe(train_dataset)\n",
        "\n",
        "# Gets the necessary columns, resamples, preprocesses the texts, splits into training and validation sets and saves them to csv\n",
        "train_dataframe, valid_dataframe = get_columns(train_df, 'review', 'label')"
      ]
    },
    {
      "cell_type": "code",
      "execution_count": null,
      "metadata": {
        "colab": {
          "base_uri": "https://localhost:8080/"
        },
        "id": "zWWF8e1J7czI",
        "outputId": "02cdebc5-5eab-46ad-b6bd-e18084ad74df"
      },
      "outputs": [
        {
          "name": "stdout",
          "output_type": "stream",
          "text": [
            "------ Preparing the testing dataset... ------\n",
            "1    12500\n",
            "0    12500\n",
            "Name: label, dtype: int64\n",
            "\n",
            "review                        24801\n",
            "label                             2\n",
            "Dataframe checked for NaN values and duplicates!\n",
            "\n",
            "Text done pre-processing!\n",
            "The testing dataset is ready and saved into csv format!\n"
          ]
        }
      ],
      "source": [
        "# ====== Prepare the datasets ======\n",
        "print('------ Preparing the testing dataset... ------')\n",
        "\n",
        "# Opens, reads, checks for duplicates and removes missing values\n",
        "test_df = read_explore_dataframe(test_dataset)\n",
        "\n",
        "# Apply the function for preprocessing the text\n",
        "test_df['review'] = test_df['review'].apply(text_preprocessing)\n",
        "print('\\nText done pre-processing!')\n",
        "\n",
        "# Divide the text and the labels\n",
        "test_texts = test_df['review']\n",
        "test_labels = test_df['label']\n",
        "\n",
        "# Concatenate the text and labels of the clean dataset into a new dataframe\n",
        "test_dataframe = pd.concat([test_texts, test_labels], axis=1)\n",
        "\n",
        "# Save the testing data into csv format\n",
        "test_dataframe.to_csv(\"/content/test.csv\", index=False)\n",
        "print('The testing dataset is ready and saved into csv format!')"
      ]
    },
    {
      "cell_type": "markdown",
      "metadata": {
        "id": "AAJexT2NYgTG"
      },
      "source": [
        "**PART 3: BUILD THE VOCABULARY**"
      ]
    },
    {
      "cell_type": "code",
      "execution_count": null,
      "metadata": {
        "colab": {
          "base_uri": "https://localhost:8080/"
        },
        "id": "iop_k6CmNOY4",
        "outputId": "71187121-37da-4637-965b-dfb100826342"
      },
      "outputs": [
        {
          "name": "stdout",
          "output_type": "stream",
          "text": [
            "Number of training examples: 20000\n",
            "Number of valid examples: 5000\n",
            "Number of testing examples: 25000\n",
            "\n",
            "Tokens in TEXT vocabulary: 25002\n",
            "Tokens in LABEL vocabulary: 2\n"
          ]
        }
      ],
      "source": [
        "# ====== Load the data & Build the vocabulary ======\n",
        "\n",
        "set_seed(42)\n",
        "\n",
        "# Create the TEXT and LABEL fields\n",
        "spacy_en = spacy.load('en_core_web_sm')\n",
        "TEXT = data.Field(tokenize=lambda text: [tok.text for tok in spacy_en.tokenizer(text)], lower=True, sequential=True)\n",
        "LABEL = data.LabelField(dtype = torch.float, sequential = False)\n",
        "\n",
        "# Loading training, testing and validation data\n",
        "train_data, valid_data, test_data = data.TabularDataset.splits(\n",
        "    path ='/content/', train = 'train.csv',\n",
        "    validation = 'valid.csv', test = 'test.csv', format = 'csv', skip_header = True,\n",
        "    fields = [('Review', TEXT), ('Label', LABEL)])\n",
        "\n",
        "print(f'Number of training examples: {len(train_data)}')\n",
        "print(f'Number of valid examples: {len(valid_data)}')\n",
        "print(f'Number of testing examples: {len(test_data)}')\n",
        "\n",
        "# Build the vocabulary using the train data\n",
        "TEXT.build_vocab(train_data, vectors = torchtext.vocab.Vectors('/content/GLOVE/glove.6B.100d.txt'), max_size = 25000, unk_init=torch.Tensor.normal_)\n",
        "LABEL.build_vocab(train_data)\n",
        "\n",
        "print('\\nTokens in TEXT vocabulary: {}'.format(len(TEXT.vocab)))\n",
        "print('Tokens in LABEL vocabulary: {}'.format(len(LABEL.vocab)))"
      ]
    },
    {
      "cell_type": "code",
      "execution_count": null,
      "metadata": {
        "colab": {
          "base_uri": "https://localhost:8080/"
        },
        "id": "SjcviMp-ytmX",
        "outputId": "86a7c0d5-75dc-4faf-f733-d9a396e1c62b"
      },
      "outputs": [
        {
          "name": "stdout",
          "output_type": "stream",
          "text": [
            "[('movie', 41450), ('film', 37789), ('one', 22111), ('like', 16614), ('time', 12670), ('good', 12162), ('character', 11308), ('story', 10604), ('even', 10191), ('would', 10000), ('get', 9966), ('make', 9758), ('see', 9631), ('really', 9435), ('well', 8671), ('scene', 8493), ('much', 7778), ('people', 7545), ('bad', 7482), ('first', 7360)]\n",
            "['<unk>', '<pad>', 'movie', 'film', 'one', 'like', 'time', 'good', 'character', 'story']\n",
            "defaultdict(None, {'0': 0, '1': 1})\n"
          ]
        }
      ],
      "source": [
        "print(TEXT.vocab.freqs.most_common(20))\n",
        "print(TEXT.vocab.itos[:10])\n",
        "print(LABEL.vocab.stoi)"
      ]
    },
    {
      "cell_type": "markdown",
      "metadata": {
        "id": "9nYB4I4zo7y-"
      },
      "source": [
        "**PART 4: Hyperparameter tuning with Optuna framework**"
      ]
    },
    {
      "cell_type": "markdown",
      "metadata": {
        "id": "8J4qvh7cDh4G"
      },
      "source": [
        "#Defining Optuna search space for RNN_LSTM, and picking the chosen parameters as per Otuna best trial:\n",
        "1. The number of layers (i.e number of stacked RNNs): 2-5 (4 was chosen)\n",
        "2. Number of epochs: 5-50 (17 was chosen)\n",
        "3. Hidden neurons: 10-100 (16 neurons were chosen)\n",
        "4. Dropout probability : 0.2-0.7 (0.6 was chosen)\n",
        "5. learing rate: 0.0001 - 0.01 (0.002 was chosen)\n",
        "6. batch size: 16-128 (118 was chosen)\n",
        "7. gradient clipping to avoid exploding gradients: 1-5 (4 was chosen)\n"
      ]
    },
    {
      "cell_type": "code",
      "execution_count": 31,
      "metadata": {
        "id": "7JkhVjzto-U1"
      },
      "outputs": [],
      "source": [
        "def RNN_LSTM(TEXT, data_train, data_valid, data_test, hidden_dim, num_layers, dropout, learning_rate, num_epochs, batch_size, clip, freeze_embeddings=True):\n",
        "    try:\n",
        "        # Set the device\n",
        "        device = torch.device('cuda' if torch.cuda.is_available() else 'cpu')\n",
        "\n",
        "        # The number of words in the vocabulary\n",
        "        input_dim = len(TEXT.vocab)\n",
        "        # The dimensions of each Glove vector\n",
        "        embedding_dim = 100\n",
        "        # The number of output layers\n",
        "        output_dim = 1\n",
        "        # The Glove pre-trained embeddings\n",
        "        embeddings = TEXT.vocab.vectors\n",
        "        # Get pad token index from vocab\n",
        "        PAD_IDX = TEXT.vocab.stoi[TEXT.pad_token]\n",
        "\n",
        "        # Instantiate the model\n",
        "        model = LSTM_Model(input_dim, embedding_dim, hidden_dim, output_dim, num_layers, dropout, PAD_IDX)\n",
        "        print(model)\n",
        "        print(f'The model has {count_parameters(model):,} trainable parameters\\n')\n",
        "        model.to(device)\n",
        "\n",
        "        # Replace the initial weights of the embedding layer with the pre-trained embeddings\n",
        "        model.embedding.weight.data.copy_(embeddings)\n",
        "        # Initialize <unk> and <pad> both to all zeros\n",
        "        UNK_IDX = TEXT.vocab.stoi[TEXT.unk_token]\n",
        "\n",
        "        # Setting row in the embedding weights matrix to zero using the token index\n",
        "        model.embedding.weight.data[UNK_IDX] = torch.zeros(embedding_dim)\n",
        "        model.embedding.weight.data[PAD_IDX] = torch.zeros(embedding_dim)\n",
        "\n",
        "        # Initialize the model parameters\n",
        "        set_seed(42)\n",
        "\n",
        "        # Create the iterators\n",
        "        train_iterator, valid_iterator, test_iterator = create_iterators(data_train, data_valid, data_test, batch_size)\n",
        "\n",
        "        # Initialize the optimizer and the loss function\n",
        "        optimizer = torch.optim.Adam(model.parameters(), lr=learning_rate, weight_decay=1e-4)\n",
        "\n",
        "        # Define loss function\n",
        "        loss_function = nn.BCEWithLogitsLoss()\n",
        "        loss_function = loss_function.to(device)\n",
        "\n",
        "        best_valid_loss = float('inf')\n",
        "\n",
        "        # Initialize empty lists to store the values of loss and accuracy for each epoch\n",
        "        train_accuracies = []\n",
        "        train_losses = []\n",
        "        val_accuracies = []\n",
        "        val_losses = []\n",
        "\n",
        "        # Freeze or unfreeze the embeddings based on the parameter\n",
        "        model.embedding.weight.requires_grad = not freeze_embeddings\n",
        "\n",
        "\n",
        "        for epoch in range(num_epochs):\n",
        "            start_time = time.time()\n",
        "\n",
        "            train_loss, train_accuracy = train(model, train_iterator, optimizer, loss_function, clip)\n",
        "            validation_loss, validation_accuracy = evaluate(model, valid_iterator, loss_function)\n",
        "\n",
        "            end_time = time.time()\n",
        "\n",
        "            epoch_mins, epoch_secs = epoch_time(start_time, end_time)\n",
        "\n",
        "            print(f'Epoch: {epoch+1:02} | Epoch Time: {epoch_mins}m {epoch_secs}s | Frozen: {freeze_embeddings}')\n",
        "            print(f'\\tTrain Loss: {train_loss:.3f} | Train Acc: {train_accuracy*100:.2f}%')\n",
        "            print(f'\\t Val. Loss: {validation_loss:.3f} |  Val. Acc: {validation_accuracy*100:.2f}%')\n",
        "\n",
        "            if validation_loss < best_valid_loss:\n",
        "                best_valid_loss = validation_loss\n",
        "                torch.save(model.state_dict(), 'lstm_model_frozen.pt' if freeze_embeddings else 'lstm_model_unfrozen.pt')\n",
        "\n",
        "            # Fill the empty lists with the values of accuracy and loss for training and evaluation sets\n",
        "            train_losses.append(train_loss)\n",
        "            train_accuracies.append(train_accuracy)\n",
        "            val_losses.append(validation_loss)\n",
        "            val_accuracies.append(validation_accuracy)\n",
        "\n",
        "        # Plot the loss vs epochs\n",
        "        plt.plot(train_losses)\n",
        "        plt.plot(val_losses)\n",
        "        plt.title('Train vs Validation Model Loss')\n",
        "        plt.ylabel('Loss')\n",
        "        plt.xlabel('Epoch')\n",
        "        plt.legend(['Train', 'Validation'])\n",
        "        plt.show()\n",
        "\n",
        "        # Plot the accuracy vs epochs\n",
        "        plt.plot(train_accuracies)\n",
        "        plt.plot(val_accuracies)\n",
        "        plt.title('Train vs Validation Model Accuracy')\n",
        "        plt.ylabel('Accuracy')\n",
        "        plt.xlabel('Epoch')\n",
        "        plt.legend(['Train', 'Validation'])\n",
        "        plt.show()\n",
        "\n",
        "        # Evaluate model on the testing set\n",
        "        predictions, labels = testing(model, test_iterator)\n",
        "\n",
        "        # Calculate the evaluation metrics on the testing set\n",
        "        calculate_metrics(labels, predictions)\n",
        "\n",
        "        # Return the last validation loss for optimization\n",
        "        return {'val_loss': val_losses[-1]}\n",
        "\n",
        "    except Exception as e:\n",
        "        print(f\"An error occurred: {str(e)}\")\n",
        "        # Return a large value in case of an error\n",
        "        return {'val_loss': float('inf')}\n",
        "\n",
        "def lstm_objective(trial):\n",
        "    # Set up the trial-specific hyperparameters\n",
        "    hidden_dim = trial.suggest_int('hidden_dim', 10, 100)\n",
        "    dropout = trial.suggest_float('dropout', 0.2, 0.7)\n",
        "    learning_rate = trial.suggest_float('learning_rate', 1e-4, 1e-2)\n",
        "    num_layers = trial.suggest_int('num_layers', 2, 5)\n",
        "    num_epochs = trial.suggest_int('num_epochs', 5, 50)\n",
        "    batch_size = trial.suggest_int('batch_size', 16, 128)\n",
        "    clip = trial.suggest_float('clip', 0.1, 5.0)\n",
        "\n",
        "    result = RNN_LSTM(TEXT, train_data, valid_data, test_data,\n",
        "                                       hidden_dim=hidden_dim,\n",
        "                                       num_layers=num_layers,\n",
        "                                       dropout=dropout,\n",
        "                                       learning_rate=learning_rate,\n",
        "                                       num_epochs=num_epochs,\n",
        "                                       batch_size=batch_size,\n",
        "                                       clip=clip)\n",
        "\n",
        "    # Return the validation loss as the objective value\n",
        "    return result['val_loss']\n",
        "\n",
        "#study = optuna.create_study(direction='minimize')\n",
        "#study.optimize(lstm_objective, n_trials=50)\n",
        "#best_params = study.best_params\n",
        "#print(\"Best Hyperparameters:\", best_params)\n",
        "##Best Hyperparameters: {'hidden_dim': 16, 'dropout': 0.6022217632336822, 'learning_rate': 0.0025565376011509387, 'num_layers': 4, 'num_epochs': 17, 'batch_size': 118, 'clip': 4.281124290951043}\n"
      ]
    },
    {
      "cell_type": "markdown",
      "metadata": {
        "id": "hjuOve3Sve0o"
      },
      "source": [
        "#Defining Optuna search space for CNN, and picking the chosen parameters as per Otuna best trial:\n",
        "In order for the models' results to be comparable, tha same number of epochs, dropout rate,batch size, gradient clipping, learning rate were maintained like in the LSTM architecture. The only chosen hyperparameters for optuna optimization were the CNN_specific parameters, meaning: the number of filters and the filter sizes\n",
        "\n",
        "•\tOptimizer and loss function: I used the Adam optimizer with weight decay of 1e-4 and the BCEWithLogitsLoss loss function, since it was a binary classification task."
      ]
    },
    {
      "cell_type": "code",
      "execution_count": 32,
      "metadata": {
        "id": "vrzFSlsl3PuR"
      },
      "outputs": [],
      "source": [
        "def CNN_EMBEDDINGS(TEXT, data_train, data_valid, data_test, num_filters, filter_sizes,dropout, learning_rate, num_epochs, batch_size, clip,freeze_embeddings=True):\n",
        "    try:\n",
        "        # Set the device\n",
        "        device = torch.device('cuda' if torch.cuda.is_available() else 'cpu')\n",
        "\n",
        "        # The number of words in the vocabulary\n",
        "        input_dim = len(TEXT.vocab)\n",
        "        # The dimensions of each Glove vector\n",
        "        embedding_dim = 100\n",
        "        # The number of output layers\n",
        "        output_dim = 1\n",
        "        # The Glove pre-trained embeddings\n",
        "        embeddings = TEXT.vocab.vectors\n",
        "        # Get pad token index from vocab\n",
        "        PAD_IDX = TEXT.vocab.stoi[TEXT.pad_token]\n",
        "\n",
        "        model = CNN(input_dim, embedding_dim, num_filters, filter_sizes, output_dim, dropout, PAD_IDX)\n",
        "        print(model)\n",
        "        print(f'The model has {count_parameters(model):,} trainable parameters')\n",
        "        model.to(device)\n",
        "\n",
        "        # Replace the initial weights of the embedding layer with the pre-trained embeddings\n",
        "        model.embedding.weight.data.copy_(embeddings)\n",
        "        # Initialize <unk> and <pad> both to all zeros - irrelevant for sentiment analysis\n",
        "        UNK_IDX = TEXT.vocab.stoi[TEXT.unk_token]\n",
        "\n",
        "        # Setting row in the embedding weights matrix to zero using the token index\n",
        "        model.embedding.weight.data[UNK_IDX] = torch.zeros(embedding_dim)\n",
        "        model.embedding.weight.data[PAD_IDX] = torch.zeros(embedding_dim)\n",
        "\n",
        "        set_seed(42)\n",
        "\n",
        "        # Create the iterators\n",
        "        train_iterator, valid_iterator, test_iterator = create_iterators(data_train, data_valid, data_test, batch_size)\n",
        "\n",
        "        # Initialize the optimizer and the loss function\n",
        "        optimizer = torch.optim.Adam(model.parameters(), lr=learning_rate, weight_decay=1e-4)\n",
        "\n",
        "        # Define loss function\n",
        "        loss_function = nn.BCEWithLogitsLoss()\n",
        "        loss_function = loss_function.to(device)\n",
        "\n",
        "        best_valid_loss = float('inf')\n",
        "\n",
        "        # Initialize empty lists to store the values of loss and accuracy for each epoch\n",
        "        train_accuracies = []\n",
        "        train_losses = []\n",
        "        val_accuracies = []\n",
        "        val_losses = []\n",
        "\n",
        "        # Freeze or unfreeze the embeddings based on the parameter\n",
        "        model.embedding.weight.requires_grad = not freeze_embeddings\n",
        "\n",
        "        for epoch in range(num_epochs):\n",
        "\n",
        "            start_time = time.time()\n",
        "\n",
        "            train_loss, train_accuracy = train(model, train_iterator, optimizer, loss_function, clip)\n",
        "            validation_loss, validation_accuracy = evaluate(model, valid_iterator, loss_function)\n",
        "\n",
        "            end_time = time.time()\n",
        "\n",
        "            epoch_mins, epoch_secs = epoch_time(start_time, end_time)\n",
        "\n",
        "            print(f'Epoch: {epoch+1:02} | Epoch Time: {epoch_mins}m {epoch_secs}s | Frozen: {not freeze_embeddings}')\n",
        "            print(f'\\tTrain Loss: {train_loss:.3f} | Train Acc: {train_accuracy*100:.2f}%')\n",
        "            print(f'\\t Val. Loss: {validation_loss:.3f} |  Val. Acc: {validation_accuracy*100:.2f}%')\n",
        "\n",
        "            if validation_loss < best_valid_loss:\n",
        "                best_valid_loss = validation_loss\n",
        "                torch.save(model.state_dict(), f'cnn_model{\"_frozen\" if not freeze_embeddings else \"_unfrozen\"}.pt')\n",
        "\n",
        "            # Fill the empty lists with the values of accuracy and loss for training and evaluation sets\n",
        "            train_losses.append(train_loss)\n",
        "            train_accuracies.append(train_accuracy)\n",
        "            val_losses.append(validation_loss)\n",
        "            val_accuracies.append(validation_accuracy)\n",
        "\n",
        "        # Plot the loss vs epochs\n",
        "        plt.plot(train_losses)\n",
        "        plt.plot(val_losses)\n",
        "        plt.title('Train vs Validation Model Loss')\n",
        "        plt.ylabel('Loss')\n",
        "        plt.xlabel('Epoch')\n",
        "        plt.legend(['Train', 'Validation'])\n",
        "        plt.show()\n",
        "\n",
        "        # Plot the accuracy vs epochs\n",
        "        plt.plot(train_accuracies)\n",
        "        plt.plot(val_accuracies)\n",
        "        plt.title('Train vs Validation Model Accuracy')\n",
        "        plt.ylabel('Accuracy')\n",
        "        plt.xlabel('Epoch')\n",
        "        plt.legend(['Train', 'Validation'])\n",
        "        plt.show()\n",
        "\n",
        "        # Evaluate model on the testing set\n",
        "        predictions, labels = testing(model, test_iterator)\n",
        "\n",
        "        # Calculate the evaluation metrics on the testing set\n",
        "        calculate_metrics(labels, predictions)\n",
        "\n",
        "        # Return the last validation loss for optimization\n",
        "        return {'val_loss': val_losses[-1]}\n",
        "\n",
        "    except Exception as e:\n",
        "        print(f\"An error occurred: {str(e)}\")\n",
        "        # Return a large value in case of an error\n",
        "        return {'val_loss': float('inf')}\n",
        "\n",
        "def cnn_objective(trial):\n",
        "\n",
        "    num_filters = trial.suggest_int('num_filters', 10, 50)\n",
        "    filter_sizes = [trial.suggest_int(f'filter_size_{i}', 3, 7) for i in range(3)]\n",
        "    result = CNN_EMBEDDINGS(TEXT, train_data, valid_data, test_data,\n",
        "                                   num_filters=num_filters,\n",
        "                                   filter_sizes=filter_sizes,\n",
        "                                   dropout=0.6,\n",
        "                                   learning_rate=0.002,\n",
        "                                   num_epochs=17,\n",
        "                                   batch_size=118,\n",
        "                                   clip=4\n",
        "                            )\n",
        "    # Return the validation loss as the objective value\n",
        "    return result['val_loss']\n",
        "\n",
        "# Create a study object and optimize hyperparameters\n",
        "#study = optuna.create_study(direction='minimize')\n",
        "#study.optimize(cnn_objective, n_trials=50)\n",
        "\n",
        "# Get the best hyperparameters\n",
        "#best_params = study.best_params\n",
        "#print(\"Best Hyperparameters:\", best_params)\n",
        "##Best hyperparameters: {'num_filters': 20, 'filter_size_0': 3, 'filter_size_1': 4, 'filter_size_2': 5}"
      ]
    },
    {
      "cell_type": "markdown",
      "metadata": {
        "id": "sk6mHKfUYuqH"
      },
      "source": [
        "**PART 5: TRAINING AND EVALUATION OF MODELS WITHOUT GLOVE PRE-TRAINED EMBEDDINGS (FROZEN EMBEDDINGS)**"
      ]
    },
    {
      "cell_type": "code",
      "execution_count": 33,
      "metadata": {
        "colab": {
          "base_uri": "https://localhost:8080/",
          "height": 1000
        },
        "id": "Md3IVoE2X1br",
        "outputId": "4ee164b6-8190-487f-bd75-4596deb58068"
      },
      "outputs": [
        {
          "name": "stdout",
          "output_type": "stream",
          "text": [
            "LSTM_Model(\n",
            "  (embedding): Embedding(25002, 100, padding_idx=1)\n",
            "  (lstm): LSTM(100, 16, num_layers=4, dropout=0.6, bidirectional=True)\n",
            "  (dense): Linear(in_features=32, out_features=1, bias=True)\n",
            "  (dropout): Dropout(p=0.6, inplace=False)\n",
            ")\n",
            "The model has 2,534,537 trainable parameters\n",
            "\n"
          ]
        },
        {
          "name": "stderr",
          "output_type": "stream",
          "text": [
            "100%|██████████| 170/170 [00:02<00:00, 60.92it/s]\n",
            "100%|██████████| 43/43 [00:00<00:00, 134.95it/s]\n"
          ]
        },
        {
          "name": "stdout",
          "output_type": "stream",
          "text": [
            "Epoch: 01 | Epoch Time: 0m 3s | Frozen: True\n",
            "\tTrain Loss: 0.658 | Train Acc: 58.20%\n",
            "\t Val. Loss: 0.558 |  Val. Acc: 73.91%\n"
          ]
        },
        {
          "name": "stderr",
          "output_type": "stream",
          "text": [
            "100%|██████████| 170/170 [00:01<00:00, 89.69it/s]\n",
            "100%|██████████| 43/43 [00:00<00:00, 166.56it/s]\n"
          ]
        },
        {
          "name": "stdout",
          "output_type": "stream",
          "text": [
            "Epoch: 02 | Epoch Time: 0m 2s | Frozen: True\n",
            "\tTrain Loss: 0.582 | Train Acc: 70.73%\n",
            "\t Val. Loss: 0.489 |  Val. Acc: 78.30%\n"
          ]
        },
        {
          "name": "stderr",
          "output_type": "stream",
          "text": [
            "100%|██████████| 170/170 [00:01<00:00, 92.02it/s]\n",
            "100%|██████████| 43/43 [00:00<00:00, 162.44it/s]\n"
          ]
        },
        {
          "name": "stdout",
          "output_type": "stream",
          "text": [
            "Epoch: 03 | Epoch Time: 0m 2s | Frozen: True\n",
            "\tTrain Loss: 0.544 | Train Acc: 73.62%\n",
            "\t Val. Loss: 0.447 |  Val. Acc: 80.81%\n"
          ]
        },
        {
          "name": "stderr",
          "output_type": "stream",
          "text": [
            "100%|██████████| 170/170 [00:01<00:00, 92.96it/s]\n",
            "100%|██████████| 43/43 [00:00<00:00, 164.07it/s]\n"
          ]
        },
        {
          "name": "stdout",
          "output_type": "stream",
          "text": [
            "Epoch: 04 | Epoch Time: 0m 2s | Frozen: True\n",
            "\tTrain Loss: 0.512 | Train Acc: 75.94%\n",
            "\t Val. Loss: 0.425 |  Val. Acc: 82.39%\n"
          ]
        },
        {
          "name": "stderr",
          "output_type": "stream",
          "text": [
            "100%|██████████| 170/170 [00:01<00:00, 89.55it/s]\n",
            "100%|██████████| 43/43 [00:00<00:00, 169.60it/s]\n"
          ]
        },
        {
          "name": "stdout",
          "output_type": "stream",
          "text": [
            "Epoch: 05 | Epoch Time: 0m 2s | Frozen: True\n",
            "\tTrain Loss: 0.488 | Train Acc: 77.24%\n",
            "\t Val. Loss: 0.410 |  Val. Acc: 83.06%\n"
          ]
        },
        {
          "name": "stderr",
          "output_type": "stream",
          "text": [
            "100%|██████████| 170/170 [00:02<00:00, 71.04it/s]\n",
            "100%|██████████| 43/43 [00:00<00:00, 106.71it/s]\n"
          ]
        },
        {
          "name": "stdout",
          "output_type": "stream",
          "text": [
            "Epoch: 06 | Epoch Time: 0m 2s | Frozen: True\n",
            "\tTrain Loss: 0.478 | Train Acc: 77.81%\n",
            "\t Val. Loss: 0.465 |  Val. Acc: 79.02%\n"
          ]
        },
        {
          "name": "stderr",
          "output_type": "stream",
          "text": [
            "100%|██████████| 170/170 [00:02<00:00, 74.27it/s]\n",
            "100%|██████████| 43/43 [00:00<00:00, 164.88it/s]\n"
          ]
        },
        {
          "name": "stdout",
          "output_type": "stream",
          "text": [
            "Epoch: 07 | Epoch Time: 0m 2s | Frozen: True\n",
            "\tTrain Loss: 0.470 | Train Acc: 78.41%\n",
            "\t Val. Loss: 0.385 |  Val. Acc: 83.88%\n"
          ]
        },
        {
          "name": "stderr",
          "output_type": "stream",
          "text": [
            "100%|██████████| 170/170 [00:01<00:00, 91.20it/s]\n",
            "100%|██████████| 43/43 [00:00<00:00, 154.88it/s]\n"
          ]
        },
        {
          "name": "stdout",
          "output_type": "stream",
          "text": [
            "Epoch: 08 | Epoch Time: 0m 2s | Frozen: True\n",
            "\tTrain Loss: 0.471 | Train Acc: 78.74%\n",
            "\t Val. Loss: 0.480 |  Val. Acc: 77.63%\n"
          ]
        },
        {
          "name": "stderr",
          "output_type": "stream",
          "text": [
            "100%|██████████| 170/170 [00:01<00:00, 91.43it/s]\n",
            "100%|██████████| 43/43 [00:00<00:00, 162.44it/s]\n"
          ]
        },
        {
          "name": "stdout",
          "output_type": "stream",
          "text": [
            "Epoch: 09 | Epoch Time: 0m 2s | Frozen: True\n",
            "\tTrain Loss: 0.457 | Train Acc: 79.07%\n",
            "\t Val. Loss: 0.380 |  Val. Acc: 83.15%\n"
          ]
        },
        {
          "name": "stderr",
          "output_type": "stream",
          "text": [
            "100%|██████████| 170/170 [00:01<00:00, 92.71it/s]\n",
            "100%|██████████| 43/43 [00:00<00:00, 161.28it/s]\n"
          ]
        },
        {
          "name": "stdout",
          "output_type": "stream",
          "text": [
            "Epoch: 10 | Epoch Time: 0m 2s | Frozen: True\n",
            "\tTrain Loss: 0.463 | Train Acc: 78.82%\n",
            "\t Val. Loss: 0.363 |  Val. Acc: 84.57%\n"
          ]
        },
        {
          "name": "stderr",
          "output_type": "stream",
          "text": [
            "100%|██████████| 170/170 [00:01<00:00, 92.15it/s]\n",
            "100%|██████████| 43/43 [00:00<00:00, 151.01it/s]\n"
          ]
        },
        {
          "name": "stdout",
          "output_type": "stream",
          "text": [
            "Epoch: 11 | Epoch Time: 0m 2s | Frozen: True\n",
            "\tTrain Loss: 0.440 | Train Acc: 80.04%\n",
            "\t Val. Loss: 0.354 |  Val. Acc: 84.97%\n"
          ]
        },
        {
          "name": "stderr",
          "output_type": "stream",
          "text": [
            "100%|██████████| 170/170 [00:02<00:00, 63.79it/s]\n",
            "100%|██████████| 43/43 [00:00<00:00, 99.82it/s] \n"
          ]
        },
        {
          "name": "stdout",
          "output_type": "stream",
          "text": [
            "Epoch: 12 | Epoch Time: 0m 3s | Frozen: True\n",
            "\tTrain Loss: 0.442 | Train Acc: 80.23%\n",
            "\t Val. Loss: 0.366 |  Val. Acc: 84.63%\n"
          ]
        },
        {
          "name": "stderr",
          "output_type": "stream",
          "text": [
            "100%|██████████| 170/170 [00:01<00:00, 88.64it/s]\n",
            "100%|██████████| 43/43 [00:00<00:00, 164.68it/s]\n"
          ]
        },
        {
          "name": "stdout",
          "output_type": "stream",
          "text": [
            "Epoch: 13 | Epoch Time: 0m 2s | Frozen: True\n",
            "\tTrain Loss: 0.429 | Train Acc: 80.47%\n",
            "\t Val. Loss: 0.346 |  Val. Acc: 85.79%\n"
          ]
        },
        {
          "name": "stderr",
          "output_type": "stream",
          "text": [
            "100%|██████████| 170/170 [00:01<00:00, 92.03it/s]\n",
            "100%|██████████| 43/43 [00:00<00:00, 156.76it/s]\n"
          ]
        },
        {
          "name": "stdout",
          "output_type": "stream",
          "text": [
            "Epoch: 14 | Epoch Time: 0m 2s | Frozen: True\n",
            "\tTrain Loss: 0.438 | Train Acc: 80.40%\n",
            "\t Val. Loss: 0.351 |  Val. Acc: 85.65%\n"
          ]
        },
        {
          "name": "stderr",
          "output_type": "stream",
          "text": [
            "100%|██████████| 170/170 [00:01<00:00, 90.87it/s]\n",
            "100%|██████████| 43/43 [00:00<00:00, 163.24it/s]\n"
          ]
        },
        {
          "name": "stdout",
          "output_type": "stream",
          "text": [
            "Epoch: 15 | Epoch Time: 0m 2s | Frozen: True\n",
            "\tTrain Loss: 0.429 | Train Acc: 80.60%\n",
            "\t Val. Loss: 0.371 |  Val. Acc: 84.68%\n"
          ]
        },
        {
          "name": "stderr",
          "output_type": "stream",
          "text": [
            "100%|██████████| 170/170 [00:01<00:00, 90.92it/s]\n",
            "100%|██████████| 43/43 [00:00<00:00, 167.38it/s]\n"
          ]
        },
        {
          "name": "stdout",
          "output_type": "stream",
          "text": [
            "Epoch: 16 | Epoch Time: 0m 2s | Frozen: True\n",
            "\tTrain Loss: 0.424 | Train Acc: 80.89%\n",
            "\t Val. Loss: 0.341 |  Val. Acc: 86.25%\n"
          ]
        },
        {
          "name": "stderr",
          "output_type": "stream",
          "text": [
            "100%|██████████| 170/170 [00:02<00:00, 82.64it/s]\n",
            "100%|██████████| 43/43 [00:00<00:00, 109.06it/s]\n"
          ]
        },
        {
          "name": "stdout",
          "output_type": "stream",
          "text": [
            "Epoch: 17 | Epoch Time: 0m 2s | Frozen: True\n",
            "\tTrain Loss: 0.425 | Train Acc: 80.95%\n",
            "\t Val. Loss: 0.339 |  Val. Acc: 85.93%\n"
          ]
        },
        {
          "data": {
            "image/png": "[encoded data removed]",
            "text/plain": [
              "<Figure size 640x480 with 1 Axes>"
            ]
          },
          "metadata": {},
          "output_type": "display_data"
        },
        {
          "data": {
            "image/png": "[encoded data removed]",
            "text/plain": [
              "<Figure size 640x480 with 1 Axes>"
            ]
          },
          "metadata": {},
          "output_type": "display_data"
        },
        {
          "name": "stdout",
          "output_type": "stream",
          "text": [
            "\n",
            "Calculating metrics...\n",
            "Accuracy: 0.85584\n",
            "Precision: [0.88678261 0.82948148]\n",
            "Recall: [0.81584 0.89584]\n",
            "F1 score: [0.84983333 0.86138462]\n",
            "Support: [12500 12500]\n",
            "              precision    recall  f1-score   support\n",
            "\n",
            "         0.0       0.89      0.82      0.85     12500\n",
            "         1.0       0.83      0.90      0.86     12500\n",
            "\n",
            "    accuracy                           0.86     25000\n",
            "   macro avg       0.86      0.86      0.86     25000\n",
            "weighted avg       0.86      0.86      0.86     25000\n",
            "\n"
          ]
        },
        {
          "data": {
            "text/plain": [
              "{'val_loss': 0.33934337316557417}"
            ]
          },
          "execution_count": 33,
          "metadata": {},
          "output_type": "execute_result"
        }
      ],
      "source": [
        "# ====== RNN_LSTM_FROZEN_EMBEDDINGS Function ======\n",
        "#Best Hyperparameters: {'hidden_dim': 16, 'dropout': 0.6022217632336822, 'learning_rate': 0.0025565376011509387, 'num_layers': 4, 'num_epochs': 17, 'batch_size': 118, 'clip': 4.281124290951043}\n",
        "\n",
        "RNN_LSTM(TEXT, train_data, valid_data, test_data, hidden_dim=16, num_layers=4, dropout=0.6, learning_rate=0.002, num_epochs=17, batch_size=118, clip=4)\n"
      ]
    },
    {
      "cell_type": "code",
      "execution_count": null,
      "metadata": {
        "colab": {
          "base_uri": "https://localhost:8080/",
          "height": 1000
        },
        "id": "wlvn9QeeXycw",
        "outputId": "7154ceb0-0bd6-4a4f-d68c-75113bc4bc98"
      },
      "outputs": [
        {
          "name": "stdout",
          "output_type": "stream",
          "text": [
            "CNN(\n",
            "  (embedding): Embedding(25002, 100, padding_idx=1)\n",
            "  (convs): ModuleList(\n",
            "    (0): Conv2d(1, 20, kernel_size=(3, 100), stride=(1, 1))\n",
            "    (1): Conv2d(1, 20, kernel_size=(4, 100), stride=(1, 1))\n",
            "    (2): Conv2d(1, 20, kernel_size=(5, 100), stride=(1, 1))\n",
            "  )\n",
            "  (fc): Linear(in_features=60, out_features=1, bias=True)\n",
            "  (dropout): Dropout(p=0.6, inplace=False)\n",
            ")\n",
            "The model has 2,524,321 trainable parameters\n"
          ]
        },
        {
          "name": "stderr",
          "output_type": "stream",
          "text": [
            "100%|██████████| 170/170 [00:02<00:00, 65.62it/s]\n",
            "100%|██████████| 43/43 [00:00<00:00, 95.48it/s]\n"
          ]
        },
        {
          "name": "stdout",
          "output_type": "stream",
          "text": [
            "Epoch: 01 | Epoch Time: 0m 3s | Frozen: True\n",
            "\tTrain Loss: 0.658 | Train Acc: 61.69%\n",
            "\t Val. Loss: 0.569 |  Val. Acc: 75.95%\n"
          ]
        },
        {
          "name": "stderr",
          "output_type": "stream",
          "text": [
            "100%|██████████| 170/170 [00:03<00:00, 46.99it/s]\n",
            "100%|██████████| 43/43 [00:00<00:00, 54.85it/s]\n"
          ]
        },
        {
          "name": "stdout",
          "output_type": "stream",
          "text": [
            "Epoch: 02 | Epoch Time: 0m 4s | Frozen: True\n",
            "\tTrain Loss: 0.578 | Train Acc: 69.67%\n",
            "\t Val. Loss: 0.510 |  Val. Acc: 79.36%\n"
          ]
        },
        {
          "name": "stderr",
          "output_type": "stream",
          "text": [
            "100%|██████████| 170/170 [00:03<00:00, 56.27it/s]\n",
            "100%|██████████| 43/43 [00:00<00:00, 93.93it/s] \n"
          ]
        },
        {
          "name": "stdout",
          "output_type": "stream",
          "text": [
            "Epoch: 03 | Epoch Time: 0m 3s | Frozen: True\n",
            "\tTrain Loss: 0.561 | Train Acc: 71.34%\n",
            "\t Val. Loss: 0.493 |  Val. Acc: 80.57%\n"
          ]
        },
        {
          "name": "stderr",
          "output_type": "stream",
          "text": [
            "100%|██████████| 170/170 [00:01<00:00, 101.38it/s]\n",
            "100%|██████████| 43/43 [00:00<00:00, 149.60it/s]\n"
          ]
        },
        {
          "name": "stdout",
          "output_type": "stream",
          "text": [
            "Epoch: 04 | Epoch Time: 0m 1s | Frozen: True\n",
            "\tTrain Loss: 0.551 | Train Acc: 72.79%\n",
            "\t Val. Loss: 0.486 |  Val. Acc: 81.18%\n"
          ]
        },
        {
          "name": "stderr",
          "output_type": "stream",
          "text": [
            "100%|██████████| 170/170 [00:01<00:00, 100.33it/s]\n",
            "100%|██████████| 43/43 [00:00<00:00, 148.99it/s]\n"
          ]
        },
        {
          "name": "stdout",
          "output_type": "stream",
          "text": [
            "Epoch: 05 | Epoch Time: 0m 1s | Frozen: True\n",
            "\tTrain Loss: 0.540 | Train Acc: 73.19%\n",
            "\t Val. Loss: 0.472 |  Val. Acc: 81.51%\n"
          ]
        },
        {
          "name": "stderr",
          "output_type": "stream",
          "text": [
            "100%|██████████| 170/170 [00:01<00:00, 100.39it/s]\n",
            "100%|██████████| 43/43 [00:00<00:00, 136.74it/s]\n"
          ]
        },
        {
          "name": "stdout",
          "output_type": "stream",
          "text": [
            "Epoch: 06 | Epoch Time: 0m 2s | Frozen: True\n",
            "\tTrain Loss: 0.534 | Train Acc: 73.61%\n",
            "\t Val. Loss: 0.461 |  Val. Acc: 81.79%\n"
          ]
        },
        {
          "name": "stderr",
          "output_type": "stream",
          "text": [
            "100%|██████████| 170/170 [00:01<00:00, 90.65it/s]\n",
            "100%|██████████| 43/43 [00:00<00:00, 63.72it/s] \n"
          ]
        },
        {
          "name": "stdout",
          "output_type": "stream",
          "text": [
            "Epoch: 07 | Epoch Time: 0m 2s | Frozen: True\n",
            "\tTrain Loss: 0.533 | Train Acc: 73.51%\n",
            "\t Val. Loss: 0.470 |  Val. Acc: 81.93%\n"
          ]
        },
        {
          "name": "stderr",
          "output_type": "stream",
          "text": [
            "100%|██████████| 170/170 [00:03<00:00, 45.85it/s]\n",
            "100%|██████████| 43/43 [00:00<00:00, 148.27it/s]\n"
          ]
        },
        {
          "name": "stdout",
          "output_type": "stream",
          "text": [
            "Epoch: 08 | Epoch Time: 0m 4s | Frozen: True\n",
            "\tTrain Loss: 0.532 | Train Acc: 73.78%\n",
            "\t Val. Loss: 0.470 |  Val. Acc: 81.34%\n"
          ]
        },
        {
          "name": "stderr",
          "output_type": "stream",
          "text": [
            "100%|██████████| 170/170 [00:01<00:00, 103.32it/s]\n",
            "100%|██████████| 43/43 [00:00<00:00, 146.16it/s]\n"
          ]
        },
        {
          "name": "stdout",
          "output_type": "stream",
          "text": [
            "Epoch: 09 | Epoch Time: 0m 1s | Frozen: True\n",
            "\tTrain Loss: 0.527 | Train Acc: 74.32%\n",
            "\t Val. Loss: 0.464 |  Val. Acc: 81.16%\n"
          ]
        },
        {
          "name": "stderr",
          "output_type": "stream",
          "text": [
            "100%|██████████| 170/170 [00:01<00:00, 102.37it/s]\n",
            "100%|██████████| 43/43 [00:00<00:00, 144.23it/s]\n"
          ]
        },
        {
          "name": "stdout",
          "output_type": "stream",
          "text": [
            "Epoch: 10 | Epoch Time: 0m 1s | Frozen: True\n",
            "\tTrain Loss: 0.525 | Train Acc: 74.16%\n",
            "\t Val. Loss: 0.473 |  Val. Acc: 81.06%\n"
          ]
        },
        {
          "name": "stderr",
          "output_type": "stream",
          "text": [
            "100%|██████████| 170/170 [00:01<00:00, 102.16it/s]\n",
            "100%|██████████| 43/43 [00:00<00:00, 146.04it/s]\n"
          ]
        },
        {
          "name": "stdout",
          "output_type": "stream",
          "text": [
            "Epoch: 11 | Epoch Time: 0m 1s | Frozen: True\n",
            "\tTrain Loss: 0.521 | Train Acc: 74.38%\n",
            "\t Val. Loss: 0.459 |  Val. Acc: 81.79%\n"
          ]
        },
        {
          "name": "stderr",
          "output_type": "stream",
          "text": [
            "100%|██████████| 170/170 [00:01<00:00, 104.57it/s]\n",
            "100%|██████████| 43/43 [00:00<00:00, 144.91it/s]\n"
          ]
        },
        {
          "name": "stdout",
          "output_type": "stream",
          "text": [
            "Epoch: 12 | Epoch Time: 0m 1s | Frozen: True\n",
            "\tTrain Loss: 0.522 | Train Acc: 74.36%\n",
            "\t Val. Loss: 0.470 |  Val. Acc: 80.19%\n"
          ]
        },
        {
          "name": "stderr",
          "output_type": "stream",
          "text": [
            "100%|██████████| 170/170 [00:02<00:00, 82.29it/s]\n",
            "100%|██████████| 43/43 [00:00<00:00, 105.97it/s]\n"
          ]
        },
        {
          "name": "stdout",
          "output_type": "stream",
          "text": [
            "Epoch: 13 | Epoch Time: 0m 2s | Frozen: True\n",
            "\tTrain Loss: 0.520 | Train Acc: 74.81%\n",
            "\t Val. Loss: 0.454 |  Val. Acc: 81.60%\n"
          ]
        },
        {
          "name": "stderr",
          "output_type": "stream",
          "text": [
            "100%|██████████| 170/170 [00:02<00:00, 79.76it/s] \n",
            "100%|██████████| 43/43 [00:00<00:00, 140.03it/s]\n"
          ]
        },
        {
          "name": "stdout",
          "output_type": "stream",
          "text": [
            "Epoch: 14 | Epoch Time: 0m 2s | Frozen: True\n",
            "\tTrain Loss: 0.519 | Train Acc: 74.80%\n",
            "\t Val. Loss: 0.452 |  Val. Acc: 81.49%\n"
          ]
        },
        {
          "name": "stderr",
          "output_type": "stream",
          "text": [
            "100%|██████████| 170/170 [00:01<00:00, 99.66it/s]\n",
            "100%|██████████| 43/43 [00:00<00:00, 142.01it/s]\n"
          ]
        },
        {
          "name": "stdout",
          "output_type": "stream",
          "text": [
            "Epoch: 15 | Epoch Time: 0m 2s | Frozen: True\n",
            "\tTrain Loss: 0.519 | Train Acc: 74.71%\n",
            "\t Val. Loss: 0.463 |  Val. Acc: 81.06%\n"
          ]
        },
        {
          "name": "stderr",
          "output_type": "stream",
          "text": [
            "100%|██████████| 170/170 [00:01<00:00, 99.94it/s] \n",
            "100%|██████████| 43/43 [00:00<00:00, 136.34it/s]\n"
          ]
        },
        {
          "name": "stdout",
          "output_type": "stream",
          "text": [
            "Epoch: 16 | Epoch Time: 0m 2s | Frozen: True\n",
            "\tTrain Loss: 0.514 | Train Acc: 75.26%\n",
            "\t Val. Loss: 0.458 |  Val. Acc: 81.30%\n"
          ]
        },
        {
          "name": "stderr",
          "output_type": "stream",
          "text": [
            "100%|██████████| 170/170 [00:01<00:00, 99.58it/s] \n",
            "100%|██████████| 43/43 [00:00<00:00, 137.75it/s]\n"
          ]
        },
        {
          "name": "stdout",
          "output_type": "stream",
          "text": [
            "Epoch: 17 | Epoch Time: 0m 2s | Frozen: True\n",
            "\tTrain Loss: 0.518 | Train Acc: 74.76%\n",
            "\t Val. Loss: 0.460 |  Val. Acc: 80.95%\n"
          ]
        },
        {
          "data": {
            "image/png": "[encoded data removed]",
            "text/plain": [
              "<Figure size 640x480 with 1 Axes>"
            ]
          },
          "metadata": {},
          "output_type": "display_data"
        },
        {
          "data": {
            "image/png": "[encoded data removed]",
            "text/plain": [
              "<Figure size 640x480 with 1 Axes>"
            ]
          },
          "metadata": {},
          "output_type": "display_data"
        },
        {
          "name": "stdout",
          "output_type": "stream",
          "text": [
            "\n",
            "Calculating metrics...\n",
            "Accuracy: 0.79928\n",
            "Precision: [0.86476209 0.75373033]\n",
            "Recall: [0.70952 0.88904]\n",
            "F1 score: [0.77948673 0.81581266]\n",
            "Support: [12500 12500]\n",
            "              precision    recall  f1-score   support\n",
            "\n",
            "         0.0       0.86      0.71      0.78     12500\n",
            "         1.0       0.75      0.89      0.82     12500\n",
            "\n",
            "    accuracy                           0.80     25000\n",
            "   macro avg       0.81      0.80      0.80     25000\n",
            "weighted avg       0.81      0.80      0.80     25000\n",
            "\n"
          ]
        },
        {
          "data": {
            "text/plain": [
              "{'val_loss': 0.4600273446981297}"
            ]
          },
          "execution_count": 26,
          "metadata": {},
          "output_type": "execute_result"
        }
      ],
      "source": [
        "# ====== CNN_FROZEN_EMBEDDINGS Function ======\n",
        "CNN_EMBEDDINGS(TEXT, train_data, valid_data, test_data,num_filters = 20,filter_sizes = [3,4,5],dropout=0.6, learning_rate=0.002, num_epochs=17, batch_size=118, clip=4)"
      ]
    },
    {
      "cell_type": "markdown",
      "metadata": {
        "id": "ltxnWAqKY9EQ"
      },
      "source": [
        "**PART 6: TRAINING AND EVALUATION OF MODELS WITH GLOVE PRE-TRAINED EMBEDDINGS**"
      ]
    },
    {
      "cell_type": "code",
      "execution_count": null,
      "metadata": {
        "colab": {
          "base_uri": "https://localhost:8080/",
          "height": 1000
        },
        "id": "Svla05weJA-M",
        "outputId": "cf11b288-f675-4882-caa7-21fc7066d351"
      },
      "outputs": [
        {
          "name": "stdout",
          "output_type": "stream",
          "text": [
            "LSTM_Model(\n",
            "  (embedding): Embedding(25002, 100, padding_idx=1)\n",
            "  (lstm): LSTM(100, 16, num_layers=4, dropout=0.6, bidirectional=True)\n",
            "  (dense): Linear(in_features=32, out_features=1, bias=True)\n",
            "  (dropout): Dropout(p=0.6, inplace=False)\n",
            ")\n",
            "The model has 2,534,537 trainable parameters\n",
            "\n"
          ]
        },
        {
          "name": "stderr",
          "output_type": "stream",
          "text": [
            "100%|██████████| 170/170 [00:02<00:00, 78.10it/s]\n",
            "100%|██████████| 43/43 [00:00<00:00, 170.86it/s]\n"
          ]
        },
        {
          "name": "stdout",
          "output_type": "stream",
          "text": [
            "Epoch: 01 | Epoch Time: 0m 2s | Frozen: False\n",
            "\tTrain Loss: 0.646 | Train Acc: 59.72%\n",
            "\t Val. Loss: 0.476 |  Val. Acc: 79.39%\n"
          ]
        },
        {
          "name": "stderr",
          "output_type": "stream",
          "text": [
            "100%|██████████| 170/170 [00:01<00:00, 86.76it/s]\n",
            "100%|██████████| 43/43 [00:00<00:00, 166.35it/s]\n"
          ]
        },
        {
          "name": "stdout",
          "output_type": "stream",
          "text": [
            "Epoch: 02 | Epoch Time: 0m 2s | Frozen: False\n",
            "\tTrain Loss: 0.476 | Train Acc: 78.43%\n",
            "\t Val. Loss: 0.385 |  Val. Acc: 83.83%\n"
          ]
        },
        {
          "name": "stderr",
          "output_type": "stream",
          "text": [
            "100%|██████████| 170/170 [00:01<00:00, 85.84it/s]\n",
            "100%|██████████| 43/43 [00:00<00:00, 175.73it/s]\n"
          ]
        },
        {
          "name": "stdout",
          "output_type": "stream",
          "text": [
            "Epoch: 03 | Epoch Time: 0m 2s | Frozen: False\n",
            "\tTrain Loss: 0.351 | Train Acc: 85.75%\n",
            "\t Val. Loss: 0.305 |  Val. Acc: 87.67%\n"
          ]
        },
        {
          "name": "stderr",
          "output_type": "stream",
          "text": [
            "100%|██████████| 170/170 [00:01<00:00, 85.63it/s]\n",
            "100%|██████████| 43/43 [00:00<00:00, 168.63it/s]\n"
          ]
        },
        {
          "name": "stdout",
          "output_type": "stream",
          "text": [
            "Epoch: 04 | Epoch Time: 0m 2s | Frozen: False\n",
            "\tTrain Loss: 0.284 | Train Acc: 88.96%\n",
            "\t Val. Loss: 0.326 |  Val. Acc: 85.89%\n"
          ]
        },
        {
          "name": "stderr",
          "output_type": "stream",
          "text": [
            "100%|██████████| 170/170 [00:02<00:00, 67.09it/s]\n",
            "100%|██████████| 43/43 [00:00<00:00, 113.63it/s]\n"
          ]
        },
        {
          "name": "stdout",
          "output_type": "stream",
          "text": [
            "Epoch: 05 | Epoch Time: 0m 2s | Frozen: False\n",
            "\tTrain Loss: 0.242 | Train Acc: 91.03%\n",
            "\t Val. Loss: 0.327 |  Val. Acc: 88.34%\n"
          ]
        },
        {
          "name": "stderr",
          "output_type": "stream",
          "text": [
            "100%|██████████| 170/170 [00:02<00:00, 74.36it/s]\n",
            "100%|██████████| 43/43 [00:00<00:00, 156.76it/s]\n"
          ]
        },
        {
          "name": "stdout",
          "output_type": "stream",
          "text": [
            "Epoch: 06 | Epoch Time: 0m 2s | Frozen: False\n",
            "\tTrain Loss: 0.197 | Train Acc: 92.73%\n",
            "\t Val. Loss: 0.330 |  Val. Acc: 88.05%\n"
          ]
        },
        {
          "name": "stderr",
          "output_type": "stream",
          "text": [
            "100%|██████████| 170/170 [00:02<00:00, 75.43it/s]\n",
            "100%|██████████| 43/43 [00:00<00:00, 167.91it/s]\n"
          ]
        },
        {
          "name": "stdout",
          "output_type": "stream",
          "text": [
            "Epoch: 07 | Epoch Time: 0m 2s | Frozen: False\n",
            "\tTrain Loss: 0.175 | Train Acc: 93.91%\n",
            "\t Val. Loss: 0.327 |  Val. Acc: 88.50%\n"
          ]
        },
        {
          "name": "stderr",
          "output_type": "stream",
          "text": [
            "100%|██████████| 170/170 [00:02<00:00, 65.18it/s]\n",
            "100%|██████████| 43/43 [00:00<00:00, 171.30it/s]\n"
          ]
        },
        {
          "name": "stdout",
          "output_type": "stream",
          "text": [
            "Epoch: 08 | Epoch Time: 0m 2s | Frozen: False\n",
            "\tTrain Loss: 0.157 | Train Acc: 94.39%\n",
            "\t Val. Loss: 0.364 |  Val. Acc: 87.08%\n"
          ]
        },
        {
          "name": "stderr",
          "output_type": "stream",
          "text": [
            "100%|██████████| 170/170 [00:01<00:00, 86.85it/s]\n",
            "100%|██████████| 43/43 [00:00<00:00, 174.39it/s]\n"
          ]
        },
        {
          "name": "stdout",
          "output_type": "stream",
          "text": [
            "Epoch: 09 | Epoch Time: 0m 2s | Frozen: False\n",
            "\tTrain Loss: 0.152 | Train Acc: 94.65%\n",
            "\t Val. Loss: 0.418 |  Val. Acc: 86.42%\n"
          ]
        },
        {
          "name": "stderr",
          "output_type": "stream",
          "text": [
            "100%|██████████| 170/170 [00:02<00:00, 68.22it/s]\n",
            "100%|██████████| 43/43 [00:00<00:00, 111.12it/s]\n"
          ]
        },
        {
          "name": "stdout",
          "output_type": "stream",
          "text": [
            "Epoch: 10 | Epoch Time: 0m 2s | Frozen: False\n",
            "\tTrain Loss: 0.130 | Train Acc: 95.45%\n",
            "\t Val. Loss: 0.392 |  Val. Acc: 87.99%\n"
          ]
        },
        {
          "name": "stderr",
          "output_type": "stream",
          "text": [
            "100%|██████████| 170/170 [00:03<00:00, 51.13it/s]\n",
            "100%|██████████| 43/43 [00:00<00:00, 165.18it/s]\n"
          ]
        },
        {
          "name": "stdout",
          "output_type": "stream",
          "text": [
            "Epoch: 11 | Epoch Time: 0m 3s | Frozen: False\n",
            "\tTrain Loss: 0.108 | Train Acc: 96.26%\n",
            "\t Val. Loss: 0.394 |  Val. Acc: 87.63%\n"
          ]
        },
        {
          "name": "stderr",
          "output_type": "stream",
          "text": [
            "100%|██████████| 170/170 [00:01<00:00, 85.47it/s]\n",
            "100%|██████████| 43/43 [00:00<00:00, 164.54it/s]\n"
          ]
        },
        {
          "name": "stdout",
          "output_type": "stream",
          "text": [
            "Epoch: 12 | Epoch Time: 0m 2s | Frozen: False\n",
            "\tTrain Loss: 0.099 | Train Acc: 96.63%\n",
            "\t Val. Loss: 0.434 |  Val. Acc: 87.49%\n"
          ]
        },
        {
          "name": "stderr",
          "output_type": "stream",
          "text": [
            "100%|██████████| 170/170 [00:01<00:00, 88.20it/s]\n",
            "100%|██████████| 43/43 [00:00<00:00, 163.83it/s]\n"
          ]
        },
        {
          "name": "stdout",
          "output_type": "stream",
          "text": [
            "Epoch: 13 | Epoch Time: 0m 2s | Frozen: False\n",
            "\tTrain Loss: 0.093 | Train Acc: 96.81%\n",
            "\t Val. Loss: 0.444 |  Val. Acc: 87.21%\n"
          ]
        },
        {
          "name": "stderr",
          "output_type": "stream",
          "text": [
            "100%|██████████| 170/170 [00:01<00:00, 85.96it/s]\n",
            "100%|██████████| 43/43 [00:00<00:00, 168.91it/s]\n"
          ]
        },
        {
          "name": "stdout",
          "output_type": "stream",
          "text": [
            "Epoch: 14 | Epoch Time: 0m 2s | Frozen: False\n",
            "\tTrain Loss: 0.092 | Train Acc: 96.89%\n",
            "\t Val. Loss: 0.446 |  Val. Acc: 87.54%\n"
          ]
        },
        {
          "name": "stderr",
          "output_type": "stream",
          "text": [
            "100%|██████████| 170/170 [00:02<00:00, 80.15it/s]\n",
            "100%|██████████| 43/43 [00:00<00:00, 112.75it/s]\n"
          ]
        },
        {
          "name": "stdout",
          "output_type": "stream",
          "text": [
            "Epoch: 15 | Epoch Time: 0m 2s | Frozen: False\n",
            "\tTrain Loss: 0.081 | Train Acc: 97.36%\n",
            "\t Val. Loss: 0.459 |  Val. Acc: 87.00%\n"
          ]
        },
        {
          "name": "stderr",
          "output_type": "stream",
          "text": [
            "100%|██████████| 170/170 [00:02<00:00, 63.94it/s]\n",
            "100%|██████████| 43/43 [00:00<00:00, 172.74it/s]\n"
          ]
        },
        {
          "name": "stdout",
          "output_type": "stream",
          "text": [
            "Epoch: 16 | Epoch Time: 0m 2s | Frozen: False\n",
            "\tTrain Loss: 0.072 | Train Acc: 97.67%\n",
            "\t Val. Loss: 0.551 |  Val. Acc: 87.06%\n"
          ]
        },
        {
          "name": "stderr",
          "output_type": "stream",
          "text": [
            "100%|██████████| 170/170 [00:01<00:00, 86.15it/s]\n",
            "100%|██████████| 43/43 [00:00<00:00, 174.79it/s]\n"
          ]
        },
        {
          "name": "stdout",
          "output_type": "stream",
          "text": [
            "Epoch: 17 | Epoch Time: 0m 2s | Frozen: False\n",
            "\tTrain Loss: 0.072 | Train Acc: 97.71%\n",
            "\t Val. Loss: 0.486 |  Val. Acc: 86.90%\n"
          ]
        },
        {
          "data": {
            "image/png": "[encoded data removed]",
            "text/plain": [
              "<Figure size 640x480 with 1 Axes>"
            ]
          },
          "metadata": {},
          "output_type": "display_data"
        },
        {
          "data": {
            "image/png": "[encoded data removed]",
            "text/plain": [
              "<Figure size 640x480 with 1 Axes>"
            ]
          },
          "metadata": {},
          "output_type": "display_data"
        },
        {
          "name": "stdout",
          "output_type": "stream",
          "text": [
            "\n",
            "Calculating metrics...\n",
            "Accuracy: 0.84252\n",
            "Precision: [0.87194857 0.81740678]\n",
            "Recall: [0.80296 0.88208]\n",
            "F1 score: [0.83603348 0.84851283]\n",
            "Support: [12500 12500]\n",
            "              precision    recall  f1-score   support\n",
            "\n",
            "         0.0       0.87      0.80      0.84     12500\n",
            "         1.0       0.82      0.88      0.85     12500\n",
            "\n",
            "    accuracy                           0.84     25000\n",
            "   macro avg       0.84      0.84      0.84     25000\n",
            "weighted avg       0.84      0.84      0.84     25000\n",
            "\n"
          ]
        },
        {
          "data": {
            "text/plain": [
              "{'val_loss': 0.48574831111486566}"
            ]
          },
          "execution_count": 22,
          "metadata": {},
          "output_type": "execute_result"
        }
      ],
      "source": [
        "# === Run the function ===\n",
        "RNN_LSTM(TEXT, train_data, valid_data, test_data, hidden_dim=16, num_layers=4, dropout=0.6, learning_rate=0.002, num_epochs=17, batch_size=118, clip=4, freeze_embeddings=False)\n"
      ]
    },
    {
      "cell_type": "code",
      "execution_count": null,
      "metadata": {
        "colab": {
          "base_uri": "https://localhost:8080/",
          "height": 1000
        },
        "id": "7sD_u9K2pCSh",
        "outputId": "790f8f03-d61d-43f2-b2d4-0844bf827751"
      },
      "outputs": [
        {
          "name": "stdout",
          "output_type": "stream",
          "text": [
            "CNN(\n",
            "  (embedding): Embedding(25002, 100, padding_idx=1)\n",
            "  (convs): ModuleList(\n",
            "    (0): Conv2d(1, 20, kernel_size=(3, 100), stride=(1, 1))\n",
            "    (1): Conv2d(1, 20, kernel_size=(4, 100), stride=(1, 1))\n",
            "    (2): Conv2d(1, 20, kernel_size=(5, 100), stride=(1, 1))\n",
            "  )\n",
            "  (fc): Linear(in_features=60, out_features=1, bias=True)\n",
            "  (dropout): Dropout(p=0.6, inplace=False)\n",
            ")\n",
            "The model has 2,524,321 trainable parameters\n"
          ]
        },
        {
          "name": "stderr",
          "output_type": "stream",
          "text": [
            "100%|██████████| 170/170 [00:09<00:00, 17.32it/s]\n",
            "100%|██████████| 43/43 [00:00<00:00, 94.86it/s] \n"
          ]
        },
        {
          "name": "stdout",
          "output_type": "stream",
          "text": [
            "Epoch: 01 | Epoch Time: 0m 10s | Frozen: False\n",
            "\tTrain Loss: 0.634 | Train Acc: 64.20%\n",
            "\t Val. Loss: 0.483 |  Val. Acc: 79.85%\n"
          ]
        },
        {
          "name": "stderr",
          "output_type": "stream",
          "text": [
            "100%|██████████| 170/170 [00:08<00:00, 20.81it/s]\n",
            "100%|██████████| 43/43 [00:00<00:00, 108.97it/s]\n"
          ]
        },
        {
          "name": "stdout",
          "output_type": "stream",
          "text": [
            "Epoch: 02 | Epoch Time: 0m 8s | Frozen: False\n",
            "\tTrain Loss: 0.473 | Train Acc: 78.06%\n",
            "\t Val. Loss: 0.406 |  Val. Acc: 83.67%\n"
          ]
        },
        {
          "name": "stderr",
          "output_type": "stream",
          "text": [
            "100%|██████████| 170/170 [00:08<00:00, 21.11it/s]\n",
            "100%|██████████| 43/43 [00:00<00:00, 160.76it/s]\n"
          ]
        },
        {
          "name": "stdout",
          "output_type": "stream",
          "text": [
            "Epoch: 03 | Epoch Time: 0m 8s | Frozen: False\n",
            "\tTrain Loss: 0.420 | Train Acc: 81.73%\n",
            "\t Val. Loss: 0.379 |  Val. Acc: 84.82%\n"
          ]
        },
        {
          "name": "stderr",
          "output_type": "stream",
          "text": [
            "100%|██████████| 170/170 [00:08<00:00, 20.57it/s]\n",
            "100%|██████████| 43/43 [00:00<00:00, 86.64it/s]\n"
          ]
        },
        {
          "name": "stdout",
          "output_type": "stream",
          "text": [
            "Epoch: 04 | Epoch Time: 0m 8s | Frozen: False\n",
            "\tTrain Loss: 0.389 | Train Acc: 83.70%\n",
            "\t Val. Loss: 0.361 |  Val. Acc: 85.66%\n"
          ]
        },
        {
          "name": "stderr",
          "output_type": "stream",
          "text": [
            "100%|██████████| 170/170 [00:09<00:00, 18.11it/s]\n",
            "100%|██████████| 43/43 [00:00<00:00, 50.00it/s]\n"
          ]
        },
        {
          "name": "stdout",
          "output_type": "stream",
          "text": [
            "Epoch: 05 | Epoch Time: 0m 10s | Frozen: False\n",
            "\tTrain Loss: 0.353 | Train Acc: 85.54%\n",
            "\t Val. Loss: 0.344 |  Val. Acc: 85.71%\n"
          ]
        },
        {
          "name": "stderr",
          "output_type": "stream",
          "text": [
            "100%|██████████| 170/170 [00:08<00:00, 20.64it/s]\n",
            "100%|██████████| 43/43 [00:00<00:00, 158.71it/s]\n"
          ]
        },
        {
          "name": "stdout",
          "output_type": "stream",
          "text": [
            "Epoch: 06 | Epoch Time: 0m 8s | Frozen: False\n",
            "\tTrain Loss: 0.331 | Train Acc: 86.50%\n",
            "\t Val. Loss: 0.341 |  Val. Acc: 86.04%\n"
          ]
        },
        {
          "name": "stderr",
          "output_type": "stream",
          "text": [
            "100%|██████████| 170/170 [00:08<00:00, 20.59it/s]\n",
            "100%|██████████| 43/43 [00:00<00:00, 161.93it/s]\n"
          ]
        },
        {
          "name": "stdout",
          "output_type": "stream",
          "text": [
            "Epoch: 07 | Epoch Time: 0m 8s | Frozen: False\n",
            "\tTrain Loss: 0.313 | Train Acc: 87.48%\n",
            "\t Val. Loss: 0.343 |  Val. Acc: 85.87%\n"
          ]
        },
        {
          "name": "stderr",
          "output_type": "stream",
          "text": [
            "100%|██████████| 170/170 [00:08<00:00, 20.89it/s]\n",
            "100%|██████████| 43/43 [00:00<00:00, 104.39it/s]\n"
          ]
        },
        {
          "name": "stdout",
          "output_type": "stream",
          "text": [
            "Epoch: 08 | Epoch Time: 0m 8s | Frozen: False\n",
            "\tTrain Loss: 0.296 | Train Acc: 88.17%\n",
            "\t Val. Loss: 0.345 |  Val. Acc: 85.45%\n"
          ]
        },
        {
          "name": "stderr",
          "output_type": "stream",
          "text": [
            "100%|██████████| 170/170 [00:08<00:00, 20.92it/s]\n",
            "100%|██████████| 43/43 [00:00<00:00, 159.49it/s]\n"
          ]
        },
        {
          "name": "stdout",
          "output_type": "stream",
          "text": [
            "Epoch: 09 | Epoch Time: 0m 8s | Frozen: False\n",
            "\tTrain Loss: 0.276 | Train Acc: 89.66%\n",
            "\t Val. Loss: 0.346 |  Val. Acc: 85.38%\n"
          ]
        },
        {
          "name": "stderr",
          "output_type": "stream",
          "text": [
            "100%|██████████| 170/170 [00:08<00:00, 20.51it/s]\n",
            "100%|██████████| 43/43 [00:00<00:00, 161.93it/s]\n"
          ]
        },
        {
          "name": "stdout",
          "output_type": "stream",
          "text": [
            "Epoch: 10 | Epoch Time: 0m 8s | Frozen: False\n",
            "\tTrain Loss: 0.257 | Train Acc: 89.89%\n",
            "\t Val. Loss: 0.349 |  Val. Acc: 85.74%\n"
          ]
        },
        {
          "name": "stderr",
          "output_type": "stream",
          "text": [
            "100%|██████████| 170/170 [00:08<00:00, 21.10it/s]\n",
            "100%|██████████| 43/43 [00:00<00:00, 112.40it/s]\n"
          ]
        },
        {
          "name": "stdout",
          "output_type": "stream",
          "text": [
            "Epoch: 11 | Epoch Time: 0m 8s | Frozen: False\n",
            "\tTrain Loss: 0.242 | Train Acc: 90.67%\n",
            "\t Val. Loss: 0.356 |  Val. Acc: 85.23%\n"
          ]
        },
        {
          "name": "stderr",
          "output_type": "stream",
          "text": [
            "100%|██████████| 170/170 [00:08<00:00, 20.55it/s]\n",
            "100%|██████████| 43/43 [00:00<00:00, 156.52it/s]\n"
          ]
        },
        {
          "name": "stdout",
          "output_type": "stream",
          "text": [
            "Epoch: 12 | Epoch Time: 0m 8s | Frozen: False\n",
            "\tTrain Loss: 0.222 | Train Acc: 91.62%\n",
            "\t Val. Loss: 0.366 |  Val. Acc: 85.01%\n"
          ]
        },
        {
          "name": "stderr",
          "output_type": "stream",
          "text": [
            "100%|██████████| 170/170 [00:08<00:00, 20.50it/s]\n",
            "100%|██████████| 43/43 [00:00<00:00, 154.33it/s]\n"
          ]
        },
        {
          "name": "stdout",
          "output_type": "stream",
          "text": [
            "Epoch: 13 | Epoch Time: 0m 8s | Frozen: False\n",
            "\tTrain Loss: 0.215 | Train Acc: 92.21%\n",
            "\t Val. Loss: 0.373 |  Val. Acc: 84.21%\n"
          ]
        },
        {
          "name": "stderr",
          "output_type": "stream",
          "text": [
            "100%|██████████| 170/170 [00:08<00:00, 21.16it/s]\n",
            "100%|██████████| 43/43 [00:00<00:00, 162.44it/s]\n"
          ]
        },
        {
          "name": "stdout",
          "output_type": "stream",
          "text": [
            "Epoch: 14 | Epoch Time: 0m 8s | Frozen: False\n",
            "\tTrain Loss: 0.203 | Train Acc: 92.60%\n",
            "\t Val. Loss: 0.377 |  Val. Acc: 84.73%\n"
          ]
        },
        {
          "name": "stderr",
          "output_type": "stream",
          "text": [
            "100%|██████████| 170/170 [00:08<00:00, 20.51it/s]\n",
            "100%|██████████| 43/43 [00:00<00:00, 160.44it/s]\n"
          ]
        },
        {
          "name": "stdout",
          "output_type": "stream",
          "text": [
            "Epoch: 15 | Epoch Time: 0m 8s | Frozen: False\n",
            "\tTrain Loss: 0.186 | Train Acc: 93.24%\n",
            "\t Val. Loss: 0.399 |  Val. Acc: 84.26%\n"
          ]
        },
        {
          "name": "stderr",
          "output_type": "stream",
          "text": [
            "100%|██████████| 170/170 [00:08<00:00, 20.45it/s]\n",
            "100%|██████████| 43/43 [00:00<00:00, 104.95it/s]\n"
          ]
        },
        {
          "name": "stdout",
          "output_type": "stream",
          "text": [
            "Epoch: 16 | Epoch Time: 0m 8s | Frozen: False\n",
            "\tTrain Loss: 0.186 | Train Acc: 93.14%\n",
            "\t Val. Loss: 0.393 |  Val. Acc: 84.01%\n"
          ]
        },
        {
          "name": "stderr",
          "output_type": "stream",
          "text": [
            "100%|██████████| 170/170 [00:08<00:00, 20.96it/s]\n",
            "100%|██████████| 43/43 [00:00<00:00, 159.53it/s]\n"
          ]
        },
        {
          "name": "stdout",
          "output_type": "stream",
          "text": [
            "Epoch: 17 | Epoch Time: 0m 8s | Frozen: False\n",
            "\tTrain Loss: 0.176 | Train Acc: 93.59%\n",
            "\t Val. Loss: 0.393 |  Val. Acc: 84.26%\n"
          ]
        },
        {
          "data": {
            "image/png": "[encoded data removed]",
            "text/plain": [
              "<Figure size 640x480 with 1 Axes>"
            ]
          },
          "metadata": {},
          "output_type": "display_data"
        },
        {
          "data": {
            "image/png": "[encoded data removed]",
            "text/plain": [
              "<Figure size 640x480 with 1 Axes>"
            ]
          },
          "metadata": {},
          "output_type": "display_data"
        },
        {
          "name": "stdout",
          "output_type": "stream",
          "text": [
            "\n",
            "Calculating metrics...\n",
            "Accuracy: 0.8252\n",
            "Precision: [0.83357952 0.81723115]\n",
            "Recall: [0.81264 0.83776]\n",
            "F1 score: [0.82297659 0.82736825]\n",
            "Support: [12500 12500]\n",
            "              precision    recall  f1-score   support\n",
            "\n",
            "         0.0       0.83      0.81      0.82     12500\n",
            "         1.0       0.82      0.84      0.83     12500\n",
            "\n",
            "    accuracy                           0.83     25000\n",
            "   macro avg       0.83      0.83      0.83     25000\n",
            "weighted avg       0.83      0.83      0.83     25000\n",
            "\n"
          ]
        },
        {
          "data": {
            "text/plain": [
              "{'val_loss': 0.3928542864877124}"
            ]
          },
          "execution_count": 30,
          "metadata": {},
          "output_type": "execute_result"
        }
      ],
      "source": [
        "# === Run the function ===\n",
        "CNN_EMBEDDINGS(TEXT, train_data, valid_data, test_data,num_filters = 20,filter_sizes = [3,4,5],dropout=0.6, learning_rate=0.002, num_epochs=17, batch_size=118, clip=4,freeze_embeddings=False)"
      ]
    },
    {
      "cell_type": "markdown",
      "metadata": {
        "id": "oS2-uGfXDqo_"
      },
      "source": [
        "**PART 7: USE A PRE-TRAINED MODEL FROM HUGGING FACE AND FINE TUNE IT TO THE IMDB DATASET**"
      ]
    },
    {
      "cell_type": "code",
      "execution_count": null,
      "metadata": {
        "colab": {
          "base_uri": "https://localhost:8080/"
        },
        "id": "I_XqypPG4BA6",
        "outputId": "4df40a29-3147-4f76-fe67-99825cb6dc75"
      },
      "outputs": [
        {
          "name": "stderr",
          "output_type": "stream",
          "text": [
            "/usr/local/lib/python3.10/dist-packages/huggingface_hub/utils/_token.py:88: UserWarning: \n",
            "The secret `HF_TOKEN` does not exist in your Colab secrets.\n",
            "To authenticate with the Hugging Face Hub, create a token in your settings tab (https://huggingface.co/settings/tokens), set it as secret in your Google Colab and restart your session.\n",
            "You will be able to reuse this secret in all of your notebooks.\n",
            "Please note that authentication is recommended but still optional to access public models or datasets.\n",
            "  warnings.warn(\n",
            "Some weights of DistilBertForSequenceClassification were not initialized from the model checkpoint at distilbert-base-uncased and are newly initialized: ['classifier.bias', 'pre_classifier.bias', 'classifier.weight', 'pre_classifier.weight']\n",
            "You should probably TRAIN this model on a down-stream task to be able to use it for predictions and inference.\n"
          ]
        },
        {
          "data": {
            "text/plain": [
              "DistilBertForSequenceClassification(\n",
              "  (distilbert): DistilBertModel(\n",
              "    (embeddings): Embeddings(\n",
              "      (word_embeddings): Embedding(30522, 768, padding_idx=0)\n",
              "      (position_embeddings): Embedding(512, 768)\n",
              "      (LayerNorm): LayerNorm((768,), eps=1e-12, elementwise_affine=True)\n",
              "      (dropout): Dropout(p=0.1, inplace=False)\n",
              "    )\n",
              "    (transformer): Transformer(\n",
              "      (layer): ModuleList(\n",
              "        (0): TransformerBlock(\n",
              "          (attention): MultiHeadSelfAttention(\n",
              "            (dropout): Dropout(p=0.1, inplace=False)\n",
              "            (q_lin): Linear(in_features=768, out_features=768, bias=True)\n",
              "            (k_lin): Linear(in_features=768, out_features=768, bias=True)\n",
              "            (v_lin): Linear(in_features=768, out_features=768, bias=True)\n",
              "            (out_lin): Linear(in_features=768, out_features=768, bias=True)\n",
              "          )\n",
              "          (sa_layer_norm): LayerNorm((768,), eps=1e-12, elementwise_affine=True)\n",
              "          (ffn): FFN(\n",
              "            (dropout): Dropout(p=0.1, inplace=False)\n",
              "            (lin1): Linear(in_features=768, out_features=3072, bias=True)\n",
              "            (lin2): Linear(in_features=3072, out_features=768, bias=True)\n",
              "            (activation): GELUActivation()\n",
              "          )\n",
              "          (output_layer_norm): LayerNorm((768,), eps=1e-12, elementwise_affine=True)\n",
              "        )\n",
              "        (1): TransformerBlock(\n",
              "          (attention): MultiHeadSelfAttention(\n",
              "            (dropout): Dropout(p=0.1, inplace=False)\n",
              "            (q_lin): Linear(in_features=768, out_features=768, bias=True)\n",
              "            (k_lin): Linear(in_features=768, out_features=768, bias=True)\n",
              "            (v_lin): Linear(in_features=768, out_features=768, bias=True)\n",
              "            (out_lin): Linear(in_features=768, out_features=768, bias=True)\n",
              "          )\n",
              "          (sa_layer_norm): LayerNorm((768,), eps=1e-12, elementwise_affine=True)\n",
              "          (ffn): FFN(\n",
              "            (dropout): Dropout(p=0.1, inplace=False)\n",
              "            (lin1): Linear(in_features=768, out_features=3072, bias=True)\n",
              "            (lin2): Linear(in_features=3072, out_features=768, bias=True)\n",
              "            (activation): GELUActivation()\n",
              "          )\n",
              "          (output_layer_norm): LayerNorm((768,), eps=1e-12, elementwise_affine=True)\n",
              "        )\n",
              "        (2): TransformerBlock(\n",
              "          (attention): MultiHeadSelfAttention(\n",
              "            (dropout): Dropout(p=0.1, inplace=False)\n",
              "            (q_lin): Linear(in_features=768, out_features=768, bias=True)\n",
              "            (k_lin): Linear(in_features=768, out_features=768, bias=True)\n",
              "            (v_lin): Linear(in_features=768, out_features=768, bias=True)\n",
              "            (out_lin): Linear(in_features=768, out_features=768, bias=True)\n",
              "          )\n",
              "          (sa_layer_norm): LayerNorm((768,), eps=1e-12, elementwise_affine=True)\n",
              "          (ffn): FFN(\n",
              "            (dropout): Dropout(p=0.1, inplace=False)\n",
              "            (lin1): Linear(in_features=768, out_features=3072, bias=True)\n",
              "            (lin2): Linear(in_features=3072, out_features=768, bias=True)\n",
              "            (activation): GELUActivation()\n",
              "          )\n",
              "          (output_layer_norm): LayerNorm((768,), eps=1e-12, elementwise_affine=True)\n",
              "        )\n",
              "        (3): TransformerBlock(\n",
              "          (attention): MultiHeadSelfAttention(\n",
              "            (dropout): Dropout(p=0.1, inplace=False)\n",
              "            (q_lin): Linear(in_features=768, out_features=768, bias=True)\n",
              "            (k_lin): Linear(in_features=768, out_features=768, bias=True)\n",
              "            (v_lin): Linear(in_features=768, out_features=768, bias=True)\n",
              "            (out_lin): Linear(in_features=768, out_features=768, bias=True)\n",
              "          )\n",
              "          (sa_layer_norm): LayerNorm((768,), eps=1e-12, elementwise_affine=True)\n",
              "          (ffn): FFN(\n",
              "            (dropout): Dropout(p=0.1, inplace=False)\n",
              "            (lin1): Linear(in_features=768, out_features=3072, bias=True)\n",
              "            (lin2): Linear(in_features=3072, out_features=768, bias=True)\n",
              "            (activation): GELUActivation()\n",
              "          )\n",
              "          (output_layer_norm): LayerNorm((768,), eps=1e-12, elementwise_affine=True)\n",
              "        )\n",
              "        (4): TransformerBlock(\n",
              "          (attention): MultiHeadSelfAttention(\n",
              "            (dropout): Dropout(p=0.1, inplace=False)\n",
              "            (q_lin): Linear(in_features=768, out_features=768, bias=True)\n",
              "            (k_lin): Linear(in_features=768, out_features=768, bias=True)\n",
              "            (v_lin): Linear(in_features=768, out_features=768, bias=True)\n",
              "            (out_lin): Linear(in_features=768, out_features=768, bias=True)\n",
              "          )\n",
              "          (sa_layer_norm): LayerNorm((768,), eps=1e-12, elementwise_affine=True)\n",
              "          (ffn): FFN(\n",
              "            (dropout): Dropout(p=0.1, inplace=False)\n",
              "            (lin1): Linear(in_features=768, out_features=3072, bias=True)\n",
              "            (lin2): Linear(in_features=3072, out_features=768, bias=True)\n",
              "            (activation): GELUActivation()\n",
              "          )\n",
              "          (output_layer_norm): LayerNorm((768,), eps=1e-12, elementwise_affine=True)\n",
              "        )\n",
              "        (5): TransformerBlock(\n",
              "          (attention): MultiHeadSelfAttention(\n",
              "            (dropout): Dropout(p=0.1, inplace=False)\n",
              "            (q_lin): Linear(in_features=768, out_features=768, bias=True)\n",
              "            (k_lin): Linear(in_features=768, out_features=768, bias=True)\n",
              "            (v_lin): Linear(in_features=768, out_features=768, bias=True)\n",
              "            (out_lin): Linear(in_features=768, out_features=768, bias=True)\n",
              "          )\n",
              "          (sa_layer_norm): LayerNorm((768,), eps=1e-12, elementwise_affine=True)\n",
              "          (ffn): FFN(\n",
              "            (dropout): Dropout(p=0.1, inplace=False)\n",
              "            (lin1): Linear(in_features=768, out_features=3072, bias=True)\n",
              "            (lin2): Linear(in_features=3072, out_features=768, bias=True)\n",
              "            (activation): GELUActivation()\n",
              "          )\n",
              "          (output_layer_norm): LayerNorm((768,), eps=1e-12, elementwise_affine=True)\n",
              "        )\n",
              "      )\n",
              "    )\n",
              "  )\n",
              "  (pre_classifier): Linear(in_features=768, out_features=768, bias=True)\n",
              "  (classifier): Linear(in_features=768, out_features=2, bias=True)\n",
              "  (dropout): Dropout(p=0.2, inplace=False)\n",
              ")"
            ]
          },
          "execution_count": 28,
          "metadata": {},
          "output_type": "execute_result"
        }
      ],
      "source": [
        "# Define the pre-trained model from Hugging Face and its tokenizer\n",
        "model_name = 'distilbert-base-uncased'\n",
        "tokenizer = DistilBertTokenizerFast.from_pretrained(model_name)\n",
        "model = DistilBertForSequenceClassification.from_pretrained(model_name, num_labels = 2)\n",
        "model.to(device)"
      ]
    },
    {
      "cell_type": "code",
      "execution_count": null,
      "metadata": {
        "id": "7WplZYNg5UTw"
      },
      "outputs": [],
      "source": [
        "# Create torch dataset\n",
        "class Dataset(torch.utils.data.Dataset):\n",
        "    def __init__(self, encodings, labels=None):\n",
        "        self.encodings = encodings\n",
        "        self.labels = labels\n",
        "\n",
        "    def __getitem__(self, idx):\n",
        "        item = {key: torch.tensor(val[idx]) for key, val in self.encodings.items()}\n",
        "        if self.labels:\n",
        "            item['labels'] = torch.tensor(self.labels[idx])\n",
        "        return item\n",
        "\n",
        "    def __len__(self):\n",
        "        return len(self.encodings['input_ids'])\n",
        "\n",
        "\n",
        "# Define Trainer parameters\n",
        "def compute_metrics(p):\n",
        "\n",
        "  pred, labels = p\n",
        "  pred = np.argmax(pred, axis=1)\n",
        "\n",
        "  accuracy = accuracy_score(y_true=labels, y_pred=pred)\n",
        "  recall = recall_score(y_true=labels, y_pred=pred)\n",
        "  precision = precision_score(y_true=labels, y_pred=pred)\n",
        "  f1 = f1_score(y_true=labels, y_pred=pred)\n",
        "  return {'accuracy': accuracy, 'precision': precision, 'recall': recall, 'f1': f1}"
      ]
    },
    {
      "cell_type": "code",
      "execution_count": null,
      "metadata": {
        "colab": {
          "base_uri": "https://localhost:8080/"
        },
        "id": "FkFUchVEkzX0",
        "outputId": "d7426a41-265c-4fcb-d7bc-c07432c60275"
      },
      "outputs": [
        {
          "name": "stdout",
          "output_type": "stream",
          "text": [
            "Training, validation and testing datasets are ready!\n"
          ]
        }
      ],
      "source": [
        "# Get the texts from the training, validation and test data\n",
        "X_train = list(train_dataframe['review'])\n",
        "X_val = list(valid_dataframe['review'])\n",
        "X_test = list(test_dataframe['review'])\n",
        "\n",
        "y_train = list(train_dataframe['label'])\n",
        "y_val = list(valid_dataframe['label'])\n",
        "\n",
        "# Tokenize and pad the data using DistilBert's tokenizer\n",
        "X_train_tokenized = tokenizer(X_train, padding = True, truncation = True)\n",
        "X_val_tokenized = tokenizer(X_val, padding = True, truncation = True)\n",
        "X_test_tokenized = tokenizer(X_test, padding = True, truncation = True)\n",
        "\n",
        "# Create the Datasets\n",
        "train_dataset = Dataset(X_train_tokenized, y_train)\n",
        "val_dataset = Dataset(X_val_tokenized, y_val)\n",
        "test_dataset = Dataset(X_test_tokenized)\n",
        "print('Training, validation and testing datasets are ready!')"
      ]
    },
    {
      "cell_type": "code",
      "execution_count": null,
      "metadata": {
        "colab": {
          "base_uri": "https://localhost:8080/",
          "height": 452
        },
        "id": "4JMC3aUp5smJ",
        "outputId": "41d26bf4-58e3-4e46-f200-f791a6d71c3b"
      },
      "outputs": [
        {
          "data": {
            "text/html": [
              "\n",
              "    <div>\n",
              "      \n",
              "      <progress value='1079' max='6000' style='width:300px; height:20px; vertical-align: middle;'></progress>\n",
              "      [1079/6000 12:42 < 58:01, 1.41 it/s, Epoch 0.54/3]\n",
              "    </div>\n",
              "    <table border=\"1\" class=\"dataframe\">\n",
              "  <thead>\n",
              " <tr style=\"text-align: left;\">\n",
              "      <th>Step</th>\n",
              "      <th>Training Loss</th>\n",
              "      <th>Validation Loss</th>\n",
              "      <th>Accuracy</th>\n",
              "      <th>Precision</th>\n",
              "      <th>Recall</th>\n",
              "      <th>F1</th>\n",
              "    </tr>\n",
              "  </thead>\n",
              "  <tbody>\n",
              "    <tr>\n",
              "      <td>500</td>\n",
              "      <td>0.420900</td>\n",
              "      <td>0.307679</td>\n",
              "      <td>0.878200</td>\n",
              "      <td>0.860439</td>\n",
              "      <td>0.904573</td>\n",
              "      <td>0.881954</td>\n",
              "    </tr>\n",
              "    <tr>\n",
              "      <td>1000</td>\n",
              "      <td>0.324300</td>\n",
              "      <td>0.338971</td>\n",
              "      <td>0.884200</td>\n",
              "      <td>0.874903</td>\n",
              "      <td>0.898211</td>\n",
              "      <td>0.886404</td>\n",
              "    </tr>\n",
              "  </tbody>\n",
              "</table><p>"
            ],
            "text/plain": [
              "<IPython.core.display.HTML object>"
            ]
          },
          "metadata": {},
          "output_type": "display_data"
        },
        {
          "data": {
            "text/html": [
              "\n",
              "    <div>\n",
              "      \n",
              "      <progress value='3500' max='6000' style='width:300px; height:20px; vertical-align: middle;'></progress>\n",
              "      [3500/6000 42:24 < 30:18, 1.37 it/s, Epoch 1/3]\n",
              "    </div>\n",
              "    <table border=\"1\" class=\"dataframe\">\n",
              "  <thead>\n",
              " <tr style=\"text-align: left;\">\n",
              "      <th>Step</th>\n",
              "      <th>Training Loss</th>\n",
              "      <th>Validation Loss</th>\n",
              "      <th>Accuracy</th>\n",
              "      <th>Precision</th>\n",
              "      <th>Recall</th>\n",
              "      <th>F1</th>\n",
              "    </tr>\n",
              "  </thead>\n",
              "  <tbody>\n",
              "    <tr>\n",
              "      <td>500</td>\n",
              "      <td>0.420900</td>\n",
              "      <td>0.307679</td>\n",
              "      <td>0.878200</td>\n",
              "      <td>0.860439</td>\n",
              "      <td>0.904573</td>\n",
              "      <td>0.881954</td>\n",
              "    </tr>\n",
              "    <tr>\n",
              "      <td>1000</td>\n",
              "      <td>0.324300</td>\n",
              "      <td>0.338971</td>\n",
              "      <td>0.884200</td>\n",
              "      <td>0.874903</td>\n",
              "      <td>0.898211</td>\n",
              "      <td>0.886404</td>\n",
              "    </tr>\n",
              "    <tr>\n",
              "      <td>1500</td>\n",
              "      <td>0.324200</td>\n",
              "      <td>0.287436</td>\n",
              "      <td>0.880200</td>\n",
              "      <td>0.937443</td>\n",
              "      <td>0.816302</td>\n",
              "      <td>0.872689</td>\n",
              "    </tr>\n",
              "    <tr>\n",
              "      <td>2000</td>\n",
              "      <td>0.325200</td>\n",
              "      <td>0.264963</td>\n",
              "      <td>0.894600</td>\n",
              "      <td>0.899839</td>\n",
              "      <td>0.889463</td>\n",
              "      <td>0.894621</td>\n",
              "    </tr>\n",
              "    <tr>\n",
              "      <td>2500</td>\n",
              "      <td>0.224200</td>\n",
              "      <td>0.310160</td>\n",
              "      <td>0.899200</td>\n",
              "      <td>0.913616</td>\n",
              "      <td>0.883101</td>\n",
              "      <td>0.898099</td>\n",
              "    </tr>\n",
              "    <tr>\n",
              "      <td>3000</td>\n",
              "      <td>0.232400</td>\n",
              "      <td>0.330476</td>\n",
              "      <td>0.898200</td>\n",
              "      <td>0.901843</td>\n",
              "      <td>0.895030</td>\n",
              "      <td>0.898423</td>\n",
              "    </tr>\n",
              "    <tr>\n",
              "      <td>3500</td>\n",
              "      <td>0.231700</td>\n",
              "      <td>0.302466</td>\n",
              "      <td>0.902800</td>\n",
              "      <td>0.901147</td>\n",
              "      <td>0.906163</td>\n",
              "      <td>0.903648</td>\n",
              "    </tr>\n",
              "  </tbody>\n",
              "</table><p>"
            ],
            "text/plain": [
              "<IPython.core.display.HTML object>"
            ]
          },
          "metadata": {},
          "output_type": "display_data"
        },
        {
          "data": {
            "text/plain": [
              "TrainOutput(global_step=3500, training_loss=0.29755510820661274, metrics={'train_runtime': 2545.5598, 'train_samples_per_second': 23.57, 'train_steps_per_second': 2.357, 'total_flos': 4636358952960000.0, 'train_loss': 0.29755510820661274, 'epoch': 1.75})"
            ]
          },
          "execution_count": 32,
          "metadata": {},
          "output_type": "execute_result"
        }
      ],
      "source": [
        "# ------ Train the model ------\n",
        "# Define the Trainer\n",
        "args = TrainingArguments(\n",
        "    output_dir = 'output',\n",
        "    evaluation_strategy = 'steps',\n",
        "    eval_steps = 500,\n",
        "    per_device_train_batch_size = 10,\n",
        "    per_device_eval_batch_size = 8,\n",
        "    num_train_epochs = 3,\n",
        "    seed = 42,\n",
        "    learning_rate = 2e-5,\n",
        "    weight_decay = 0.01,\n",
        "    load_best_model_at_end = True)\n",
        "\n",
        "trainer = Trainer(\n",
        "    model = model,\n",
        "    args = args,\n",
        "    train_dataset = train_dataset,\n",
        "    eval_dataset = val_dataset,\n",
        "    compute_metrics = compute_metrics,\n",
        "    callbacks = [EarlyStoppingCallback(early_stopping_patience = 3)])\n",
        "\n",
        "# Train the pre-trained model\n",
        "trainer.train()"
      ]
    },
    {
      "cell_type": "code",
      "execution_count": null,
      "metadata": {
        "colab": {
          "base_uri": "https://localhost:8080/",
          "height": 17
        },
        "id": "SGSd8u4y6B-y",
        "outputId": "677f6326-cdb4-45b5-cbab-b617114a1499"
      },
      "outputs": [
        {
          "data": {
            "text/html": [],
            "text/plain": [
              "<IPython.core.display.HTML object>"
            ]
          },
          "metadata": {},
          "output_type": "display_data"
        }
      ],
      "source": [
        "# ------ Make predictions ------\n",
        "\n",
        "# Load the trained model\n",
        "model_path = 'output/checkpoint-2000'\n",
        "model = DistilBertForSequenceClassification.from_pretrained(model_path, num_labels = 2)\n",
        "\n",
        "# Define the test trainer\n",
        "test_trainer = Trainer(model)\n",
        "\n",
        "# Make prediction\n",
        "raw_pred, _, _ = test_trainer.predict(test_dataset)\n",
        "\n",
        "# Preprocess raw predictions\n",
        "y_pred = np.argmax(raw_pred, axis=1)"
      ]
    },
    {
      "cell_type": "code",
      "execution_count": null,
      "metadata": {
        "colab": {
          "base_uri": "https://localhost:8080/"
        },
        "id": "HRF13_WRSv_C",
        "outputId": "cb1002a1-4153-468e-8ed0-1a80f45b55a4"
      },
      "outputs": [
        {
          "name": "stdout",
          "output_type": "stream",
          "text": [
            "[1 0 1 ... 0 1 0]\n"
          ]
        }
      ],
      "source": [
        "print(y_pred)"
      ]
    },
    {
      "cell_type": "markdown",
      "metadata": {
        "id": "Jmck1_dpapAT"
      },
      "source": [
        "**PART 8: PRESENTING THE RESULTS/ COMMENT ON THE FINDINGS**"
      ]
    },
    {
      "cell_type": "markdown",
      "metadata": {
        "id": "XWFhFX0BHLFX"
      },
      "source": [
        "![image.png](data:image/png;base64,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)"
      ]
    },
    {
      "cell_type": "markdown",
      "metadata": {
        "id": "AIv9cMordxDs"
      },
      "source": [
        "DistilBert: These are the results from the best loaded model at 2000 evaluation steps.\n",
        "From the results’ board above, it is evident that the DistilBert model achieved the highest scores of all the models. It also seems that the CNN with the frozen embeddings did not achieve as satisfying results as the other models. Second best model after DistillBERT seems to be the LSTM with the frozen embeddings, since it achieved second best scoring performance in all metrics.\n",
        "From the plotted learning curves above, we can see though that:\n",
        "the CNN model with the frozen embedings seems to be underfitting the train data, since it reports consistently higher accuracy and lower loss in the validation compared to the train data and the two model trained with GloVe also show some overfitting on the train data.\n",
        "\n",
        "This implies that the chosen hyperarameters from Optuna, did not help the models in optimization.\n",
        "1. Undefitting: First it seems that freezing the embeddings with the CNN architecture and the given optimized hyperprameters were not enough for the complexity of our text data. A more complex model is needed.\n",
        "\n",
        "2. Overfitting: It seems that retraining the pretrained GloVe embeddings and using the chosen Optuna hyperparameters confused the model.\n",
        "Trying out other learning rates, dropout rates, or smaller layer sizes might be necessary to improve model generalization and performance.\n"
      ]
    },
    {
      "cell_type": "markdown",
      "metadata": {
        "id": "7FsH2YVP57jC"
      },
      "source": [
        "**References**"
      ]
    },
    {
      "cell_type": "markdown",
      "metadata": {
        "id": "DZHpYcr_6MQJ"
      },
      "source": [
        "Maas, A. L., Daly, R. E., Pham, P. T., Huang, D., Ng, A. Y., & Potts, C. (2011, June 1). Learning Word Vectors for Sentiment Analysis. ACLWeb; Association for Computational Linguistics. http://www.aclweb.org/anthology/P11-1015"
      ]
    }
  ],
  "metadata": {
    "accelerator": "GPU",
    "colab": {
      "gpuType": "T4",
      "provenance": []
    },
    "kernelspec": {
      "display_name": "Python 3",
      "name": "python3"
    },
    "language_info": {
      "codemirror_mode": {
        "name": "ipython",
        "version": 3
      },
      "file_extension": ".py",
      "mimetype": "text/x-python",
      "name": "python",
      "nbconvert_exporter": "python",
      "pygments_lexer": "ipython3",
      "version": "3.9.18"
    }
  },
  "nbformat": 4,
  "nbformat_minor": 0
}
